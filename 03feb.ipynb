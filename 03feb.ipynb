{
 "cells": [
  {
   "cell_type": "code",
   "execution_count": null,
   "id": "7b28f020-2955-4d31-8e15-ec657f09ad56",
   "metadata": {},
   "outputs": [],
   "source": []
  },
  {
   "cell_type": "code",
   "execution_count": null,
   "id": "71e672ea-ed97-413c-b0e7-5d61dd11d5fa",
   "metadata": {},
   "outputs": [],
   "source": [
    "                 QUESTION 1 "
   ]
  },
  {
   "cell_type": "code",
   "execution_count": null,
   "id": "7b7a1a59-acf7-427b-940c-2541600128a8",
   "metadata": {},
   "outputs": [],
   "source": [
    "def is used to create a function ."
   ]
  },
  {
   "cell_type": "code",
   "execution_count": 4,
   "id": "5803842b-bfc3-4015-80cd-cb43c00737a9",
   "metadata": {},
   "outputs": [],
   "source": [
    "l = []\n",
    "def odd_no():\n",
    "    for i in range(1,25):\n",
    "        if i%2!=0:\n",
    "            l.append(i)\n",
    "    return l         "
   ]
  },
  {
   "cell_type": "code",
   "execution_count": 5,
   "id": "294ee27f-a9c3-4c9d-81b0-5cb5cc6dcc92",
   "metadata": {},
   "outputs": [
    {
     "data": {
      "text/plain": [
       "[1, 3, 5, 7, 9, 11, 13, 15, 17, 19, 21, 23]"
      ]
     },
     "execution_count": 5,
     "metadata": {},
     "output_type": "execute_result"
    }
   ],
   "source": [
    "odd_no()"
   ]
  },
  {
   "cell_type": "code",
   "execution_count": null,
   "id": "a8ea56ed-bd0b-47cb-ac4c-8e8c51f51365",
   "metadata": {},
   "outputs": [],
   "source": [
    "                  QUESTION 2"
   ]
  },
  {
   "cell_type": "code",
   "execution_count": null,
   "id": "549eff2e-8a53-4311-9f7e-97886a9403f8",
   "metadata": {},
   "outputs": [],
   "source": [
    "Putting *args and **kwargs as the last items in your function definition’s argument list allows that function to accept an arbitrary number of arguments and keyword arguments."
   ]
  },
  {
   "cell_type": "code",
   "execution_count": 6,
   "id": "bd49d92c-ba34-4bb3-bbdb-f8105f684215",
   "metadata": {},
   "outputs": [],
   "source": [
    "def add(*ad):\n",
    "    sum = 0\n",
    "    for i in ad :\n",
    "        sum = sum +i \n",
    "        \n",
    "    return sum     "
   ]
  },
  {
   "cell_type": "code",
   "execution_count": 7,
   "id": "24b2a437-a17a-4412-97e8-d0eff520f051",
   "metadata": {},
   "outputs": [
    {
     "data": {
      "text/plain": [
       "115"
      ]
     },
     "execution_count": 7,
     "metadata": {},
     "output_type": "execute_result"
    }
   ],
   "source": [
    "add(3,5,6,7,85,4,5)"
   ]
  },
  {
   "cell_type": "code",
   "execution_count": 26,
   "id": "fd11858c-9671-4867-9c93-c221509829d6",
   "metadata": {},
   "outputs": [],
   "source": [
    "def call(**k):\n",
    "    for key , value in k.items():\n",
    "        print(key +\" is \"+ value +\" of the class\")\n",
    "        \n",
    "        "
   ]
  },
  {
   "cell_type": "code",
   "execution_count": 27,
   "id": "6b5ebf3f-4009-426d-b11b-06686c9f9a2a",
   "metadata": {},
   "outputs": [
    {
     "name": "stdout",
     "output_type": "stream",
     "text": [
      "shivam is student of the class\n",
      "sumit is topper of the class\n",
      "tanmay is portman of the class\n"
     ]
    }
   ],
   "source": [
    "\n",
    "call(shivam=\"student\",sumit=\"topper\",tanmay=\"portman\")"
   ]
  },
  {
   "cell_type": "code",
   "execution_count": null,
   "id": "99ecaff5-fb67-412b-b01e-2394ce69b1d6",
   "metadata": {},
   "outputs": [],
   "source": [
    "                                 QUESTION 3 "
   ]
  },
  {
   "cell_type": "code",
   "execution_count": null,
   "id": "684a83e2-e6f3-4181-9041-13812d63228c",
   "metadata": {},
   "outputs": [],
   "source": [
    "Iterator is an object that contain a countable number of value or object that can be iterated (that it can be traverse through all value )\n",
    "method used to The initialise the iterator object is the 'iterator' iter() method. The method used for iteration is the 'next' next() method.\n"
   ]
  },
  {
   "cell_type": "code",
   "execution_count": 3,
   "id": "61c99761-92d3-4549-af0c-0847d7ecb342",
   "metadata": {},
   "outputs": [
    {
     "name": "stdout",
     "output_type": "stream",
     "text": [
      "2\n",
      "4\n",
      "6\n",
      "8\n",
      "10\n"
     ]
    }
   ],
   "source": [
    "l = iter([2,4,6,8,10,12,14,16,18,20])\n",
    "for i in range(5):\n",
    "    print(next(l))"
   ]
  },
  {
   "cell_type": "code",
   "execution_count": null,
   "id": "b5d130f9-b71e-49e4-840f-b7c8e5108cf4",
   "metadata": {},
   "outputs": [],
   "source": [
    "                                  QUESTION 4 "
   ]
  },
  {
   "cell_type": "code",
   "execution_count": null,
   "id": "1e70d843-7f45-4c91-ab37-ffa0ca62cb0e",
   "metadata": {},
   "outputs": [],
   "source": [
    " generator function is a function that returns an iterable object (such as a list or a dictionary) that can be used in a for loop.\n",
    "Unlike a regular function, a generator function will not run until the user calls it."
   ]
  },
  {
   "cell_type": "code",
   "execution_count": null,
   "id": "9451696a-499d-4651-9df5-7f4c6c8b508a",
   "metadata": {},
   "outputs": [],
   "source": [
    " The yield statement produces a generator object and can return multiple values to the caller without terminating the program,\n",
    " whereas a return statement is used to return a value to the caller from within a function and it terminates the program."
   ]
  },
  {
   "cell_type": "code",
   "execution_count": null,
   "id": "dbd869e5-7372-40bb-b3a2-5d83ea8aa61a",
   "metadata": {},
   "outputs": [],
   "source": [
    "def func(n,l):\n",
    "    a = 0\n",
    "    while a<n :\n",
    "        yield l[a]\n",
    "        a=a+1\n",
    "        \n",
    "        "
   ]
  },
  {
   "cell_type": "code",
   "execution_count": 5,
   "id": "00d98a41-ac36-4d07-a6dc-858b371f05b2",
   "metadata": {},
   "outputs": [
    {
     "name": "stdout",
     "output_type": "stream",
     "text": [
      "3\n",
      "4\n",
      "5\n",
      "6\n",
      "3\n"
     ]
    }
   ],
   "source": [
    "for i in func(5,[3,4,5,6,3,23,54,64,64,45]):\n",
    "    print(i)\n"
   ]
  },
  {
   "cell_type": "code",
   "execution_count": null,
   "id": "b9e64971-0934-421e-9ba5-c7d3c904194f",
   "metadata": {},
   "outputs": [],
   "source": [
    "                          QUESTION 5 "
   ]
  },
  {
   "cell_type": "code",
   "execution_count": 4,
   "id": "99da98de-ac74-4b0b-aa4e-360857f26912",
   "metadata": {},
   "outputs": [],
   "source": [
    "def gen():\n",
    "    p = []\n",
    "    for num in range(2,1001):\n",
    "        c= 0 \n",
    "        for i in range(2,num):\n",
    "            if num%i==0:\n",
    "                break\n",
    "        else:\n",
    "            p = \n",
    "    yield p             "
   ]
  },
  {
   "cell_type": "code",
   "execution_count": 11,
   "id": "5ff0348b-77e0-4334-a9df-417d5209aef9",
   "metadata": {},
   "outputs": [
    {
     "name": "stdout",
     "output_type": "stream",
     "text": [
      "[2, 3, 5, 7, 11, 13, 17, 19, 23, 29, 31, 37, 41, 43, 47, 53, 59, 61, 67, 71, 73, 79, 83, 89, 97, 101, 103, 107, 109, 113, 127, 131, 137, 139, 149, 151, 157, 163, 167, 173, 179, 181, 191, 193, 197, 199, 211, 223, 227, 229, 233, 239, 241, 251, 257, 263, 269, 271, 277, 281, 283, 293, 307, 311, 313, 317, 331, 337, 347, 349, 353, 359, 367, 373, 379, 383, 389, 397, 401, 409, 419, 421, 431, 433, 439, 443, 449, 457, 461, 463, 467, 479, 487, 491, 499, 503, 509, 521, 523, 541, 547, 557, 563, 569, 571, 577, 587, 593, 599, 601, 607, 613, 617, 619, 631, 641, 643, 647, 653, 659, 661, 673, 677, 683, 691, 701, 709, 719, 727, 733, 739, 743, 751, 757, 761, 769, 773, 787, 797, 809, 811, 821, 823, 827, 829, 839, 853, 857, 859, 863, 877, 881, 883, 887, 907, 911, 919, 929, 937, 941, 947, 953, 967, 971, 977, 983, 991, 997]\n"
     ]
    }
   ],
   "source": [
    "art = gen()\n",
    "# for i in range(20):\n",
    "print(next(art,\"done\"))"
   ]
  },
  {
   "cell_type": "code",
   "execution_count": null,
   "id": "5c2ec9f0-19df-4177-927f-51d62e2cda19",
   "metadata": {},
   "outputs": [],
   "source": [
    "                         QUESTION 6 "
   ]
  },
  {
   "cell_type": "code",
   "execution_count": 3,
   "id": "0933aa1b-2c74-47fc-9835-789f62a94ff5",
   "metadata": {},
   "outputs": [
    {
     "name": "stdout",
     "output_type": "stream",
     "text": [
      "0\n",
      "1\n",
      "1\n",
      "2\n",
      "3\n",
      "5\n",
      "8\n",
      "13\n",
      "21\n",
      "34\n"
     ]
    }
   ],
   "source": [
    "a ,b = 0,1\n",
    "n=0\n",
    "while n<10:\n",
    "    print(a) \n",
    "    c = a \n",
    "    a = b \n",
    "    b = c + a \n",
    "    n = n+1\n",
    "    \n",
    "    "
   ]
  },
  {
   "cell_type": "code",
   "execution_count": null,
   "id": "e72e7ea8-8cda-4386-96e0-3913bcc2725c",
   "metadata": {},
   "outputs": [],
   "source": [
    " QUESTION 7 "
   ]
  },
  {
   "cell_type": "code",
   "execution_count": 4,
   "id": "d1c5e68c-2d18-4aa6-aef6-72195fc2cbd9",
   "metadata": {},
   "outputs": [
    {
     "data": {
      "text/plain": [
       "['p', 'w', 's', 'k', 'i', 'l', 'l', 's']"
      ]
     },
     "execution_count": 4,
     "metadata": {},
     "output_type": "execute_result"
    }
   ],
   "source": [
    "s = \"pwskills\"\n",
    "[i for i in s]"
   ]
  },
  {
   "cell_type": "code",
   "execution_count": null,
   "id": "2c0c8a21-105f-43a2-8476-a7b681460250",
   "metadata": {},
   "outputs": [],
   "source": [
    "QUESTION 8 "
   ]
  },
  {
   "cell_type": "code",
   "execution_count": null,
   "id": "7ee29d7a-8827-4ea9-83c1-1f4ee1522910",
   "metadata": {},
   "outputs": [],
   "source": [
    "n = list(input('enter the no'))\n",
    "t = len(n)\n",
    "i = 0\n",
    "c = 0\n",
    "while t>i:\n",
    "    if n[i]==n[t-1]:\n",
    "        i = i+1 \n",
    "        t = t-1 \n",
    "else:\n",
    "    c =1\n",
    "    print(' a palindrome')\n",
    "if c == 0 :\n",
    "    print('not a palindrome')\n",
    "    "
   ]
  },
  {
   "cell_type": "code",
   "execution_count": null,
   "id": "ad15e9d4-fd9d-42b6-b66d-0f086baa5dd0",
   "metadata": {},
   "outputs": [],
   "source": [
    " QUESTION 9 "
   ]
  },
  {
   "cell_type": "code",
   "execution_count": 1,
   "id": "c0bee054-c8cd-4734-b044-908847577298",
   "metadata": {},
   "outputs": [
    {
     "data": {
      "text/plain": [
       "[1,\n",
       " 3,\n",
       " 5,\n",
       " 7,\n",
       " 9,\n",
       " 11,\n",
       " 13,\n",
       " 15,\n",
       " 17,\n",
       " 19,\n",
       " 21,\n",
       " 23,\n",
       " 25,\n",
       " 27,\n",
       " 29,\n",
       " 31,\n",
       " 33,\n",
       " 35,\n",
       " 37,\n",
       " 39,\n",
       " 41,\n",
       " 43,\n",
       " 45,\n",
       " 47,\n",
       " 49,\n",
       " 51,\n",
       " 53,\n",
       " 55,\n",
       " 57,\n",
       " 59,\n",
       " 61,\n",
       " 63,\n",
       " 65,\n",
       " 67,\n",
       " 69,\n",
       " 71,\n",
       " 73,\n",
       " 75,\n",
       " 77,\n",
       " 79,\n",
       " 81,\n",
       " 83,\n",
       " 85,\n",
       " 87,\n",
       " 89,\n",
       " 91,\n",
       " 93,\n",
       " 95,\n",
       " 97,\n",
       " 99]"
      ]
     },
     "execution_count": 1,
     "metadata": {},
     "output_type": "execute_result"
    }
   ],
   "source": [
    "[i for i in range(1,101) if i%2!=0]"
   ]
  },
  {
   "cell_type": "code",
   "execution_count": null,
   "id": "6f861537-8dd7-4f53-9853-a6b126958960",
   "metadata": {},
   "outputs": [],
   "source": []
  }
 ],
 "metadata": {
  "kernelspec": {
   "display_name": "Python 3 (ipykernel)",
   "language": "python",
   "name": "python3"
  },
  "language_info": {
   "codemirror_mode": {
    "name": "ipython",
    "version": 3
   },
   "file_extension": ".py",
   "mimetype": "text/x-python",
   "name": "python",
   "nbconvert_exporter": "python",
   "pygments_lexer": "ipython3",
   "version": "3.10.8"
  }
 },
 "nbformat": 4,
 "nbformat_minor": 5
}
