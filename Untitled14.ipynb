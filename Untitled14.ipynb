{
 "cells": [
  {
   "cell_type": "code",
   "execution_count": null,
   "id": "09b4a083-2bc2-40c6-a60c-460223ca48b2",
   "metadata": {},
   "outputs": [],
   "source": [
    "QUESTION 1 "
   ]
  },
  {
   "cell_type": "code",
   "execution_count": null,
   "id": "0ad72ce6-945b-4858-b372-cd19beb3b16f",
   "metadata": {},
   "outputs": [],
   "source": [
    "object is an instance of a class . object is a real world entity such as chair , table etc.\n",
    "object is a physical entity and object allocates memory when created \n",
    "\n",
    "class is a blue print from which object are created and class is  a logical entity . class doesn't allocate memory when ir is created \n"
   ]
  },
  {
   "cell_type": "code",
   "execution_count": 1,
   "id": "ffccbb20-9b54-490d-a33e-7aa39380e1ae",
   "metadata": {},
   "outputs": [],
   "source": [
    "#class \n",
    "class MyClass:\n",
    "  x = 5"
   ]
  },
  {
   "cell_type": "code",
   "execution_count": 2,
   "id": "ecdb3e7c-f938-4cc8-a3ee-73db6d407185",
   "metadata": {},
   "outputs": [
    {
     "name": "stdout",
     "output_type": "stream",
     "text": [
      "5\n"
     ]
    }
   ],
   "source": [
    "#object \n",
    "p1 = MyClass()\n",
    "print(p1.x)"
   ]
  },
  {
   "cell_type": "code",
   "execution_count": null,
   "id": "5cb80b93-d60c-47d1-9027-5728e9ade595",
   "metadata": {},
   "outputs": [],
   "source": [
    "QUESTION 2 "
   ]
  },
  {
   "cell_type": "markdown",
   "id": "74a588e3-797d-4e5f-ba28-b8406ceca758",
   "metadata": {},
   "source": [
    "1 POLYMORPHISM \n",
    "2 INHERITANCE \n",
    "3 ENCAPCULATION \n",
    "4 ABSTRACTION"
   ]
  },
  {
   "cell_type": "code",
   "execution_count": null,
   "id": "3bab69fb-f1a9-40dc-8371-ed661169923e",
   "metadata": {},
   "outputs": [],
   "source": [
    "QUESTION 3 "
   ]
  },
  {
   "cell_type": "code",
   "execution_count": null,
   "id": "bac69adb-4038-46ef-9b89-dff9a1f43df6",
   "metadata": {},
   "outputs": [],
   "source": [
    "\"__init__\" is a reseved method in python classes. It is called as a constructor in object oriented terminology.\n",
    "This method is called when an object is created from a class and it allows the class to initialize the attributes of the class"
   ]
  },
  {
   "cell_type": "code",
   "execution_count": 5,
   "id": "951d1abd-287d-47ce-95b0-b4b60a20fc2e",
   "metadata": {},
   "outputs": [
    {
     "name": "stdout",
     "output_type": "stream",
     "text": [
      "45\n",
      "56\n"
     ]
    }
   ],
   "source": [
    "class func:\n",
    "    def __init__(self,roll,no):\n",
    "        self.roll=roll\n",
    "        self.no=no \n",
    "        \n",
    "obj=func(45,56)\n",
    "print(obj.roll)\n",
    "print(obj.no)"
   ]
  },
  {
   "cell_type": "code",
   "execution_count": null,
   "id": "ba212d06-6884-4a81-9d31-7e30f560e376",
   "metadata": {},
   "outputs": [],
   "source": [
    " QUESTION 4 "
   ]
  },
  {
   "cell_type": "code",
   "execution_count": null,
   "id": "69f565bf-af12-453f-bd1b-0346c237f7c0",
   "metadata": {},
   "outputs": [],
   "source": [
    "The self variable is used to represent the instance of the class which is often used in object-oriented programming. \n",
    "It works as a reference to the object. Python uses the self parameter to refer to instance attributes and methods of the class."
   ]
  },
  {
   "cell_type": "code",
   "execution_count": null,
   "id": "8516ae00-692f-44bd-98d6-ee218fc8059c",
   "metadata": {},
   "outputs": [],
   "source": [
    "QUESTION 5 "
   ]
  },
  {
   "cell_type": "code",
   "execution_count": null,
   "id": "e06d07a5-079b-47bd-89de-9e94b028e16c",
   "metadata": {},
   "outputs": [],
   "source": [
    "Inheritance is a mechanism of acquiring the features and behaviors of a class by another class. The class whose members are inherited is called the base class, and the class that inherits those members is called the derived class"
   ]
  },
  {
   "cell_type": "code",
   "execution_count": 9,
   "id": "8551ce16-89fc-4833-a776-92ebda92a0f4",
   "metadata": {},
   "outputs": [],
   "source": [
    "#SINGLE INHERITANCE \n",
    "class A:\n",
    "    def fun(self):\n",
    "        print(\"parent class \")\n",
    "class B(A):\n",
    "    def fun2(self):\n",
    "        print(\"child class \")"
   ]
  },
  {
   "cell_type": "code",
   "execution_count": 13,
   "id": "5906bda9-a406-4a7c-bf52-8007612379d4",
   "metadata": {},
   "outputs": [
    {
     "name": "stdout",
     "output_type": "stream",
     "text": [
      "parent class \n",
      "child class \n"
     ]
    }
   ],
   "source": [
    "obj = B()\n",
    "obj.fun()\n",
    "obj.fun2()"
   ]
  },
  {
   "cell_type": "code",
   "execution_count": 17,
   "id": "e43ca263-e8bd-4ab7-961c-f11a7e926dfa",
   "metadata": {},
   "outputs": [],
   "source": [
    "#MULTIPLE INHERITANCE \n",
    "class A:\n",
    "    def fun1(self):\n",
    "        print(\"parent class \")\n",
    "class B:\n",
    "    def fun2(self):\n",
    "        print(\"parent class \")\n",
    "class C(A,B):\n",
    "    def fun3(self):\n",
    "        print(\"child class \")        "
   ]
  },
  {
   "cell_type": "code",
   "execution_count": 18,
   "id": "a437d485-6fed-464f-bcd1-8262828b41c8",
   "metadata": {},
   "outputs": [
    {
     "name": "stdout",
     "output_type": "stream",
     "text": [
      "parent class \n",
      "parent class \n",
      "child class \n"
     ]
    }
   ],
   "source": [
    "obj = C()\n",
    "obj.fun1()\n",
    "obj.fun2()\n",
    "obj.fun3()"
   ]
  },
  {
   "cell_type": "code",
   "execution_count": 19,
   "id": "21b6f626-7ea6-4b9f-9bf6-230b0f284418",
   "metadata": {},
   "outputs": [],
   "source": [
    "#MULTILEVEL INHERITANCE \n",
    "class A:\n",
    "    def fun1(self):\n",
    "        print(\"TOP parent class \")\n",
    "class B(A):\n",
    "    def fun2(self):\n",
    "        print(\"parent class \")\n",
    "class C(B):\n",
    "    def fun3(self):\n",
    "        print(\"child class \") "
   ]
  },
  {
   "cell_type": "code",
   "execution_count": 20,
   "id": "7713c47e-8419-41e5-9739-45886b938bf8",
   "metadata": {},
   "outputs": [
    {
     "name": "stdout",
     "output_type": "stream",
     "text": [
      "TOP parent class \n",
      "parent class \n",
      "child class \n"
     ]
    }
   ],
   "source": [
    "obj = C()\n",
    "obj.fun1()\n",
    "obj.fun2()\n",
    "obj.fun3()"
   ]
  },
  {
   "cell_type": "code",
   "execution_count": 24,
   "id": "09feb79c-69c1-47ba-8d91-bf508f3df89a",
   "metadata": {},
   "outputs": [],
   "source": [
    "#HIERARCHICAL INHERITANCE \n",
    "class A:\n",
    "    def fun1(self):\n",
    "        print(\"TOP parent class \")\n",
    "class B(A):\n",
    "    def fun2(self):\n",
    "        print(\"CHILD  class \")\n",
    "class C(A):\n",
    "    def fun3(self):\n",
    "        print(\"child class \") \n",
    "class D(A):\n",
    "    def fun4(self):\n",
    "        print(\"child class \") \n",
    "                "
   ]
  },
  {
   "cell_type": "code",
   "execution_count": 25,
   "id": "0be61c41-53ca-4ece-a73d-7288f8ed9d66",
   "metadata": {},
   "outputs": [
    {
     "name": "stdout",
     "output_type": "stream",
     "text": [
      "TOP parent class \n",
      "TOP parent class \n",
      "TOP parent class \n",
      "CHILD  class \n",
      "child class \n",
      "child class \n"
     ]
    }
   ],
   "source": [
    "obj = B()\n",
    "obj1 = C()\n",
    "obj2 = D()\n",
    "obj.fun1()\n",
    "obj1.fun1()\n",
    "obj2.fun1()\n",
    "obj.fun2()\n",
    "obj1.fun3()\n",
    "obj2.fun4()\n",
    "\n"
   ]
  },
  {
   "cell_type": "code",
   "execution_count": null,
   "id": "19882282-a75f-44b7-a872-b1c86c043ddd",
   "metadata": {},
   "outputs": [],
   "source": []
  }
 ],
 "metadata": {
  "kernelspec": {
   "display_name": "Python 3 (ipykernel)",
   "language": "python",
   "name": "python3"
  },
  "language_info": {
   "codemirror_mode": {
    "name": "ipython",
    "version": 3
   },
   "file_extension": ".py",
   "mimetype": "text/x-python",
   "name": "python",
   "nbconvert_exporter": "python",
   "pygments_lexer": "ipython3",
   "version": "3.10.8"
  }
 },
 "nbformat": 4,
 "nbformat_minor": 5
}
