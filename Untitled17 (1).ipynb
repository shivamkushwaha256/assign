{
 "cells": [
  {
   "cell_type": "code",
   "execution_count": 55,
   "id": "988d1da1-801c-4fc0-8670-4fef441c955e",
   "metadata": {},
   "outputs": [],
   "source": [
    "def product(a):\n",
    "    l1=[]\n",
    "    for i in a :\n",
    "        if type(i)==\"bool\":\n",
    "            continue\n",
    "        elif type(i) is int :\n",
    "            l1.append(i)\n",
    "        elif type(i) is list :\n",
    "            l1.extend(i)\n",
    "        elif type(i) is tuple :\n",
    "            l1.extend(i) \n",
    "        elif type(i) is str :\n",
    "            l1.append(i)\n",
    "        elif type(i) is set: \n",
    "            l1.extend(i)\n",
    "        elif type(i) is dict:\n",
    "            for k,v in i.items():\n",
    "                l1.append(k)\n",
    "                if type(v) is not int:\n",
    "                    l1.extend(v)\n",
    "                    \n",
    "    product1=1\n",
    "    for i in l1 :\n",
    "        if type(i) is int :\n",
    "            product1 = product1 * i\n",
    "        elif type(i) is str:\n",
    "            if i.isdigit==\"True\":\n",
    "                d=int(i)\n",
    "                product1=product1 * d\n",
    "    print(\"flat list is \",l1)\n",
    "    return product1       \n",
    "\n"
   ]
  },
  {
   "cell_type": "code",
   "execution_count": 56,
   "id": "51383744-22e9-4581-9474-362830cc3a0c",
   "metadata": {},
   "outputs": [
    {
     "name": "stdout",
     "output_type": "stream",
     "text": [
      "flat list is  [1, 2, 3, 4, 44, 55, 66, True, 34, 56, 78, 89, 34, 1, 2, 3, 1, 'key2', 55, 67, 78, 89, 4, 45, 22, 61, 34, 56, 'data science', 'Machine Learning']\n",
      "product is 121609171734914278789230624768000\n"
     ]
    }
   ],
   "source": [
    "        \n",
    "list1 = [1,2,3,4, [44,55,66, True], False, (34,56,78,89,34), {1,2,3,3,2,1}, {1:34, \"key2\": [55, 67, 78, 89], 4: (45,\n",
    "22, 61, 34)}, [56, 'data science'], 'Machine Learning']\n",
    "t = []\n",
    "t = product(list1) \n",
    "   \n",
    "print(\"product is\",t)  \n"
   ]
  },
  {
   "cell_type": "code",
   "execution_count": null,
   "id": "db8b95f0-9b36-463f-ab46-5c20f9f17f6c",
   "metadata": {},
   "outputs": [],
   "source": []
  },
  {
   "cell_type": "code",
   "execution_count": 90,
   "id": "463bd610-f93e-409e-9711-37d88dc02abc",
   "metadata": {},
   "outputs": [],
   "source": [
    "def encryp(s1):\n",
    "    s = s1.lower()\n",
    "    l =\" abcdefghijklmnopqrstuvwxyz$\"\n",
    "    t=\"\"\n",
    "    print(s)\n",
    "    for i in s:\n",
    "        count=0\n",
    "        for j in l:\n",
    "       \n",
    "            if j ==i :\n",
    "                 t = t + l[27-count]\n",
    "                 break\n",
    "            count=count+1 \n",
    "            \n",
    "        else:\n",
    "            t = t + i \n",
    "    return t   "
   ]
  },
  {
   "cell_type": "code",
   "execution_count": 93,
   "id": "ed97275a-d704-4735-aa25-aa7a7ca4b323",
   "metadata": {},
   "outputs": [
    {
     "name": "stdout",
     "output_type": "stream",
     "text": [
      "i want to become a data scientist.\n",
      "r$dzmg$gl$yvxlnv$z$wzgz$hxrvmgrhg.\n"
     ]
    }
   ],
   "source": [
    "g= \"I want to become a Data Scientist.\"\n",
    "h = encryp(g)\n",
    "print(h)"
   ]
  }
 ],
 "metadata": {
  "kernelspec": {
   "display_name": "Python 3 (ipykernel)",
   "language": "python",
   "name": "python3"
  },
  "language_info": {
   "codemirror_mode": {
    "name": "ipython",
    "version": 3
   },
   "file_extension": ".py",
   "mimetype": "text/x-python",
   "name": "python",
   "nbconvert_exporter": "python",
   "pygments_lexer": "ipython3",
   "version": "3.10.8"
  }
 },
 "nbformat": 4,
 "nbformat_minor": 5
}
