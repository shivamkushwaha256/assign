{
 "cells": [
  {
   "cell_type": "code",
   "execution_count": 11,
   "id": "8137f526-b26b-4e31-b8cb-b0853a895e51",
   "metadata": {},
   "outputs": [],
   "source": [
    "def check(a):\n",
    "    c=0\n",
    "    c1=0\n",
    "    s=0\n",
    "    if len(a)>=10:\n",
    "        for i in a :\n",
    "            if i.isupper():\n",
    "                c= c+1\n",
    "            if i.lower():\n",
    "                c1=c1+1\n",
    "            if i.isalpha():\n",
    "                pass\n",
    "            if i.isdigit():\n",
    "                pass\n",
    "            else:\n",
    "                s=s+1\n",
    "    if c>=1 and c1>=1 and s>=3 :\n",
    "        print(\"valid passward\")\n",
    "    else:\n",
    "        print(\"invalid password\")"
   ]
  },
  {
   "cell_type": "code",
   "execution_count": 12,
   "id": "39d330ba-fc23-437d-b70e-612678577069",
   "metadata": {},
   "outputs": [
    {
     "name": "stdin",
     "output_type": "stream",
     "text": [
      "enter the password Kush@#$45dr\n"
     ]
    },
    {
     "name": "stdout",
     "output_type": "stream",
     "text": [
      "valid passward\n"
     ]
    }
   ],
   "source": [
    "r = input(\"enter the password\")\n",
    "g=check(r)"
   ]
  },
  {
   "cell_type": "code",
   "execution_count": 8,
   "id": "f0168c6d-fb9f-472a-a8d6-b922b7c9471e",
   "metadata": {},
   "outputs": [
    {
     "name": "stdin",
     "output_type": "stream",
     "text": [
      "enter the string to check  shivam\n"
     ]
    },
    {
     "name": "stdout",
     "output_type": "stream",
     "text": [
      "['match']\n"
     ]
    }
   ],
   "source": [
    "s =input(\"enter the string to check \")\n",
    "t = [\"match\" if s[0]==\"s\" else \"not match \"]\n",
    "print(t)"
   ]
  },
  {
   "cell_type": "code",
   "execution_count": 10,
   "id": "81177392-2d7e-4196-a26e-b79389b3a411",
   "metadata": {},
   "outputs": [
    {
     "name": "stdin",
     "output_type": "stream",
     "text": [
      "enter a string to check for numeric  456\n"
     ]
    },
    {
     "name": "stdout",
     "output_type": "stream",
     "text": [
      "['numeric']\n"
     ]
    }
   ],
   "source": [
    "s = input(\"enter a string to check for numeric \")\n",
    "a =[\"numeric\" if s.isdigit() else \"not numeric\"]\n",
    "print(a)"
   ]
  },
  {
   "cell_type": "code",
   "execution_count": 20,
   "id": "13c47826-a899-4135-a4d3-70e9c2cfc1bf",
   "metadata": {},
   "outputs": [
    {
     "name": "stdout",
     "output_type": "stream",
     "text": [
      "[('orange', 80), ('mango', 99), ('grapes', 1000)]\n"
     ]
    }
   ],
   "source": [
    "l=[(\"mango\",99),(\"orange\",80), (\"grapes\", 1000)]\n",
    "l.sort(key= lambda x: x[1])\n",
    "print(l)"
   ]
  },
  {
   "cell_type": "code",
   "execution_count": 54,
   "id": "886d2c77-338b-4a6b-8447-0a3066ccbb18",
   "metadata": {},
   "outputs": [
    {
     "name": "stdout",
     "output_type": "stream",
     "text": [
      "[1, 4, 9, 16, 25, 36, 49, 64, 81, 100]\n"
     ]
    }
   ],
   "source": [
    "l = [1,2,3,4,5,6,7,8,9,10]\n",
    "t =list(map(lambda x: pow(x,2),l))\n",
    "print(t)"
   ]
  },
  {
   "cell_type": "code",
   "execution_count": 53,
   "id": "f8026961-84e2-4667-bf14-a0a71bbf6ab8",
   "metadata": {},
   "outputs": [
    {
     "name": "stdout",
     "output_type": "stream",
     "text": [
      "[1.0, 0.125, 0.037037037037037035, 0.015625, 0.008, 0.004629629629629629, 0.0029154518950437317, 0.001953125, 0.0013717421124828531, 0.001]\n"
     ]
    }
   ],
   "source": [
    "l = [1,2,3,4,5,6,7,8,9,10]\n",
    "t =list(map(lambda x: pow(x,-3),l))\n",
    "print(t)"
   ]
  },
  {
   "cell_type": "code",
   "execution_count": 38,
   "id": "61cd4cbb-80b4-4adc-a784-2a3eaee07e90",
   "metadata": {},
   "outputs": [
    {
     "name": "stdin",
     "output_type": "stream",
     "text": [
      "enter the no  52\n"
     ]
    },
    {
     "name": "stdout",
     "output_type": "stream",
     "text": [
      "[2, 4, 6, 8, 10]\n"
     ]
    }
   ],
   "source": [
    "x =int(input(\"enter the no \"))\n",
    "t = [ \"even\" if x%2==0 else \"odd\"]\n",
    "print(t)"
   ]
  },
  {
   "cell_type": "code",
   "execution_count": 50,
   "id": "76b39223-7d72-40ec-b9fe-1b53de4d0a4a",
   "metadata": {},
   "outputs": [
    {
     "name": "stdout",
     "output_type": "stream",
     "text": [
      "[1, 3, 5, 7, 9]\n"
     ]
    }
   ],
   "source": [
    "l = [1,2,3,4,5,6,7,8,9,10]\n",
    "a =list(filter(lambda x:x%2!=0,l))\n",
    "print(a)"
   ]
  },
  {
   "cell_type": "code",
   "execution_count": 60,
   "id": "3241aae5-2cdf-4011-a623-9b878fd19436",
   "metadata": {},
   "outputs": [],
   "source": [
    "l =[1,2,3,4,5,6,0,-1,-2,-3,-4,-5]\n",
    "a = list(filter(lambda x:x>0,l))\n",
    "b = list(filter(lambda x:x<0,l))"
   ]
  },
  {
   "cell_type": "code",
   "execution_count": 58,
   "id": "8194a1a3-8f38-4319-a003-96e8c99e2ff6",
   "metadata": {},
   "outputs": [
    {
     "name": "stdout",
     "output_type": "stream",
     "text": [
      "[1, 2, 3, 4, 5, 6] [-1, -2, -3, -4, -5]\n"
     ]
    }
   ],
   "source": [
    "print(a,b)"
   ]
  },
  {
   "cell_type": "code",
   "execution_count": null,
   "id": "6751ef68-f5f5-4a03-b70e-a591221adf0f",
   "metadata": {},
   "outputs": [],
   "source": []
  }
 ],
 "metadata": {
  "kernelspec": {
   "display_name": "Python 3 (ipykernel)",
   "language": "python",
   "name": "python3"
  },
  "language_info": {
   "codemirror_mode": {
    "name": "ipython",
    "version": 3
   },
   "file_extension": ".py",
   "mimetype": "text/x-python",
   "name": "python",
   "nbconvert_exporter": "python",
   "pygments_lexer": "ipython3",
   "version": "3.10.8"
  }
 },
 "nbformat": 4,
 "nbformat_minor": 5
}
