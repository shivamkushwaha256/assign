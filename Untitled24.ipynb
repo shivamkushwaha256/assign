{
 "cells": [
  {
   "cell_type": "code",
   "execution_count": null,
   "id": "f684280d-2622-4bf8-a5b1-45123f96b523",
   "metadata": {},
   "outputs": [],
   "source": [
    "QUESTION 1 "
   ]
  },
  {
   "cell_type": "code",
   "execution_count": null,
   "id": "87fe7d39-be99-4bde-877a-13fe81159ef7",
   "metadata": {},
   "outputs": [],
   "source": [
    "Abstraction is the process of hiding the internal details of an application from the outer world. \n",
    "Abstraction is used to describe things in simple terms. It’s used to create a boundary between the application and the client programs.\n",
    "  We can heat our food in Microwave. We press some buttons to set the timer and type of food. Finally, we get a hot and delicious meal. \n",
    "  The microwave internal details are hidden from us. We have been given access to the functionality in a very simple manner."
   ]
  },
  {
   "cell_type": "code",
   "execution_count": 1,
   "id": "d23f96b9-ea5f-49ed-9cd5-80b9d287e206",
   "metadata": {},
   "outputs": [],
   "source": [
    "import abc \n",
    "class comp:\n",
    "    @abc.abstractmethod \n",
    "    def name(self):\n",
    "        pass\n",
    "    def rollno(self):\n",
    "        pass\n",
    "class write(comp):\n",
    "    def name(self):\n",
    "        return \"this is for write name  \"\n",
    "    def rollno(self):\n",
    "        return \"this is for write rollno\"\n",
    "class write2(comp):\n",
    "    def name(self):\n",
    "        return \"this for blank wrrite \"\n",
    "    def rollno(self):\n",
    "        return \"this is for roll no\""
   ]
  },
  {
   "cell_type": "code",
   "execution_count": 2,
   "id": "b74d9412-70e2-4d96-8847-34b5b82f08a4",
   "metadata": {},
   "outputs": [],
   "source": [
    "obj = write()\n"
   ]
  },
  {
   "cell_type": "code",
   "execution_count": 6,
   "id": "afdaa4dc-8296-47d0-b564-fcc8b379ac51",
   "metadata": {},
   "outputs": [
    {
     "data": {
      "text/plain": [
       "'this is for write name  '"
      ]
     },
     "execution_count": 6,
     "metadata": {},
     "output_type": "execute_result"
    }
   ],
   "source": [
    "obj.name()\n"
   ]
  },
  {
   "cell_type": "code",
   "execution_count": 7,
   "id": "7c35e51f-19e5-4675-a163-1f5bc9c58190",
   "metadata": {},
   "outputs": [
    {
     "data": {
      "text/plain": [
       "'this is for write rollno'"
      ]
     },
     "execution_count": 7,
     "metadata": {},
     "output_type": "execute_result"
    }
   ],
   "source": [
    "obj.rollno()"
   ]
  },
  {
   "cell_type": "code",
   "execution_count": 8,
   "id": "2ff5cf8b-d701-4305-ae50-2c11cc4adc14",
   "metadata": {},
   "outputs": [],
   "source": [
    "rf=write2()"
   ]
  },
  {
   "cell_type": "code",
   "execution_count": 9,
   "id": "52ec41fe-3825-4874-80eb-8c8a2fc4e943",
   "metadata": {},
   "outputs": [
    {
     "data": {
      "text/plain": [
       "'this for blank wrrite '"
      ]
     },
     "execution_count": 9,
     "metadata": {},
     "output_type": "execute_result"
    }
   ],
   "source": [
    "rf.name()"
   ]
  },
  {
   "cell_type": "code",
   "execution_count": 10,
   "id": "eb970f11-9d42-4619-a165-67b4f60e1a51",
   "metadata": {},
   "outputs": [
    {
     "data": {
      "text/plain": [
       "'this is for roll no'"
      ]
     },
     "execution_count": 10,
     "metadata": {},
     "output_type": "execute_result"
    }
   ],
   "source": [
    "rf.rollno()"
   ]
  },
  {
   "cell_type": "code",
   "execution_count": null,
   "id": "a2a3be02-8691-4470-8c02-8033f28876b5",
   "metadata": {},
   "outputs": [],
   "source": [
    "                                                     question 2"
   ]
  },
  {
   "cell_type": "code",
   "execution_count": null,
   "id": "4af6c240-58d7-4e0c-8358-bf20e57109eb",
   "metadata": {},
   "outputs": [],
   "source": [
    "Abstraction is hiding the details and implementation of the code.\n",
    "Encapsulation is hiding the data and controlling the visibility of the code."
   ]
  },
  {
   "cell_type": "code",
   "execution_count": 18,
   "id": "6e0cf7e8-0cbb-45c9-9e3e-7edaaae737f6",
   "metadata": {},
   "outputs": [],
   "source": [
    "#encapsulation\n",
    "class Base:\n",
    "    def __init__(self ,age=0):\n",
    "        self._age=age\n",
    "class derived(Base):\n",
    "    def update_age(self,a):\n",
    "        Base.__init__(self)\n",
    "        self._age=a\n",
    "        print(\"age updated \" ,self._age)    "
   ]
  },
  {
   "cell_type": "code",
   "execution_count": 19,
   "id": "6a9a0666-54d5-4e58-a4a3-bf138905918b",
   "metadata": {},
   "outputs": [
    {
     "name": "stdout",
     "output_type": "stream",
     "text": [
      "age updated  45\n"
     ]
    }
   ],
   "source": [
    "obj=derived()\n",
    "obj.update_age(45)"
   ]
  },
  {
   "cell_type": "code",
   "execution_count": 20,
   "id": "9dcaffa4-a4ef-411a-a3f0-3cd76b6bae31",
   "metadata": {},
   "outputs": [],
   "source": [
    "#abtraction \n",
    "import abc \n",
    "class comp:\n",
    "    @abc.abstractmethod \n",
    "    def name(self):\n",
    "        pass\n",
    "    def rollno(self):\n",
    "        pass\n",
    "class write(comp):\n",
    "    def name(self):\n",
    "        return \"this is for write name  \"\n",
    "    def rollno(self):\n",
    "        return \"this is for write rollno\"\n",
    "class write2(comp):\n",
    "    def name(self):\n",
    "        return \"this for blank wrrite \"\n",
    "    def rollno(self):\n",
    "        return \"this is for roll no\""
   ]
  },
  {
   "cell_type": "code",
   "execution_count": 22,
   "id": "ecf18738-46f4-4c23-88df-5081a65491b9",
   "metadata": {},
   "outputs": [
    {
     "data": {
      "text/plain": [
       "'this is for write name  '"
      ]
     },
     "execution_count": 22,
     "metadata": {},
     "output_type": "execute_result"
    }
   ],
   "source": [
    "obj = write()\n",
    "obj.name()"
   ]
  },
  {
   "cell_type": "code",
   "execution_count": null,
   "id": "a4c91e24-e631-4daa-8cb0-479dcd16f1e1",
   "metadata": {},
   "outputs": [],
   "source": [
    "question 3 "
   ]
  },
  {
   "cell_type": "code",
   "execution_count": null,
   "id": "2a29b1fd-8e6f-4b60-b8f4-f665de73c9db",
   "metadata": {},
   "outputs": [],
   "source": [
    "The ABC module in Python is a set of abstract base classes that are used to help create new classes and objects. \n",
    "It is used to help define interfaces or abstract classes which can be inherited by other classes, allowing developers to control which methods \n",
    "and attributes are available to the child classes and ensuring that any abstract methods are implemented."
   ]
  },
  {
   "cell_type": "code",
   "execution_count": null,
   "id": "c33f0ce6-ea5c-4cba-9234-03933d1decb3",
   "metadata": {},
   "outputs": [],
   "source": [
    "question 4"
   ]
  },
  {
   "cell_type": "code",
   "execution_count": null,
   "id": "a095fe9f-bce9-4c6d-a43f-2c36acba0570",
   "metadata": {},
   "outputs": [],
   "source": [
    "abstraction in Python can be achieved by using Data the object-oriented programming approach. It involves the hiding of data implementation by creating abstract data types. \n",
    "This is done by encapsulating the data and methods into a single unit called a class. This class can then be extended into other classes providing specific functionality. \n",
    "This helps to keep the data and code separated from one another and makes the code easier to maintain."
   ]
  },
  {
   "cell_type": "markdown",
   "id": "ba8e36f0-228c-4f23-bdbc-1ce37949182b",
   "metadata": {},
   "source": [
    "question 5"
   ]
  },
  {
   "cell_type": "code",
   "execution_count": null,
   "id": "07e54b2b-9927-4763-8293-bfacf736dda5",
   "metadata": {},
   "outputs": [],
   "source": [
    " We cannot create an instance No of an abstract class. Abstract classes are classes that contain one or more abstract methods,\n",
    "    which are methods that are declared, but not implemented. Since they are not implemented, they cannot be instantiated."
   ]
  }
 ],
 "metadata": {
  "kernelspec": {
   "display_name": "Python 3 (ipykernel)",
   "language": "python",
   "name": "python3"
  },
  "language_info": {
   "codemirror_mode": {
    "name": "ipython",
    "version": 3
   },
   "file_extension": ".py",
   "mimetype": "text/x-python",
   "name": "python",
   "nbconvert_exporter": "python",
   "pygments_lexer": "ipython3",
   "version": "3.10.8"
  }
 },
 "nbformat": 4,
 "nbformat_minor": 5
}
