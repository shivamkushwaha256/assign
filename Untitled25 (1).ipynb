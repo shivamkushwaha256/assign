{
 "cells": [
  {
   "cell_type": "code",
   "execution_count": 5,
   "id": "d988d40e-785a-4838-a37d-e3965f7842ed",
   "metadata": {},
   "outputs": [],
   "source": [
    "class Vehicle:\n",
    "    def __init__(self,vehicle_name,max_speed,average_of_vehicle):\n",
    "        self.name_of_vehicle=vehicle_name\n",
    "        self.max_speed=max_speed\n",
    "        self.average_of_vehicle=average_of_vehicle\n",
    "        print(\"vehicla name , max speed and average are \" ,self.name_of_vehicle ,self.max_speed,self.average_of_vehicle)\n",
    "        "
   ]
  },
  {
   "cell_type": "code",
   "execution_count": 6,
   "id": "b72cb061-cb85-48b1-85fd-fb7b50f9d84c",
   "metadata": {},
   "outputs": [
    {
     "name": "stdout",
     "output_type": "stream",
     "text": [
      "vehicla name , max speed and average are  ferrari 300 19\n"
     ]
    }
   ],
   "source": [
    "s=Vehicle(\"ferrari\",300,19)"
   ]
  },
  {
   "cell_type": "code",
   "execution_count": 15,
   "id": "c9980b7c-87ee-4c73-8972-754d6bd9ab5c",
   "metadata": {},
   "outputs": [],
   "source": [
    "class Car(Vehicle):\n",
    "    def seating_capacity(self,capacity):\n",
    "        self.vehicle_capacity=capacity\n",
    "        print(\"vehicle name and it's capacity\" ,self.name_of_vehicle,self.vehicle_capacity )"
   ]
  },
  {
   "cell_type": "code",
   "execution_count": 16,
   "id": "1dfbcf3a-f3e6-428e-9f64-238601931d09",
   "metadata": {},
   "outputs": [
    {
     "name": "stdout",
     "output_type": "stream",
     "text": [
      "vehicla name , max speed and average are  ferrari 250 34\n"
     ]
    }
   ],
   "source": [
    "s1 = Car('ferrari',250,34)\n"
   ]
  },
  {
   "cell_type": "code",
   "execution_count": 17,
   "id": "61442a9a-d3b9-472c-ae74-ba8a84128a0e",
   "metadata": {},
   "outputs": [
    {
     "name": "stdout",
     "output_type": "stream",
     "text": [
      "vehicle name and it's capacity ferrari 3\n"
     ]
    }
   ],
   "source": [
    "s1.seating_capacity(3)"
   ]
  },
  {
   "cell_type": "code",
   "execution_count": null,
   "id": "00d8e08d-a243-48b6-ad62-c6c5ecf95bfc",
   "metadata": {},
   "outputs": [],
   "source": [
    "question 3"
   ]
  },
  {
   "cell_type": "code",
   "execution_count": 8,
   "id": "92c2bb2c-2da4-4521-a847-e17f32f7e35f",
   "metadata": {},
   "outputs": [],
   "source": [
    "class A:\n",
    "    def class1(self,a):\n",
    "        print(\"this is class 1\",a)\n",
    "class B:\n",
    "    def class2(self,b):\n",
    "        print(\"this is class 2\",b)\n",
    "class C(A,B):\n",
    "    pass\n",
    "    "
   ]
  },
  {
   "cell_type": "code",
   "execution_count": 9,
   "id": "158a718e-4438-454e-9094-5ff665f120e4",
   "metadata": {},
   "outputs": [],
   "source": [
    "obj=C()"
   ]
  },
  {
   "cell_type": "code",
   "execution_count": 10,
   "id": "d5cb6c3f-aa99-42c9-b881-d489992eadfb",
   "metadata": {},
   "outputs": [
    {
     "name": "stdout",
     "output_type": "stream",
     "text": [
      "this is class 1 3\n"
     ]
    }
   ],
   "source": [
    "obj.class1(3)"
   ]
  },
  {
   "cell_type": "code",
   "execution_count": 11,
   "id": "84cf25e4-e1b2-40b4-826d-7798b1e2767c",
   "metadata": {},
   "outputs": [
    {
     "name": "stdout",
     "output_type": "stream",
     "text": [
      "this is class 2 4\n"
     ]
    }
   ],
   "source": [
    "obj.class2(4)"
   ]
  },
  {
   "cell_type": "code",
   "execution_count": null,
   "id": "5c91634f-616e-4fd1-8d9e-1d5a4ae7db9c",
   "metadata": {},
   "outputs": [],
   "source": [
    "Question 4 "
   ]
  },
  {
   "cell_type": "code",
   "execution_count": null,
   "id": "b239a44e-0a41-40f1-93ef-29796bdf735e",
   "metadata": {},
   "outputs": [],
   "source": [
    "Getters are the methods that are used in Object-Oriented Programming (OOPS) to access a class's private attributes\n",
    "The setter is a method that is used to set the property's value. It is very useful in object-oriented programming to set the value of private attributes in a class.\n"
   ]
  },
  {
   "cell_type": "code",
   "execution_count": 16,
   "id": "d080fde9-4f26-447f-a4da-0c4448cf39b4",
   "metadata": {},
   "outputs": [],
   "source": [
    "class Age:\n",
    "    def __init__(self,age=0):\n",
    "        self._age=age\n",
    "    def set_age(self,a):\n",
    "        self._age=a \n",
    "    def get_age(self):\n",
    "        return self._age\n",
    "        "
   ]
  },
  {
   "cell_type": "code",
   "execution_count": 17,
   "id": "fb2d8483-aff7-404c-93ad-aaae26b16959",
   "metadata": {},
   "outputs": [],
   "source": [
    "obj=Age()"
   ]
  },
  {
   "cell_type": "code",
   "execution_count": 18,
   "id": "55c904fc-b7a6-40c0-8aae-4373978b8771",
   "metadata": {},
   "outputs": [],
   "source": [
    "obj.set_age(45)"
   ]
  },
  {
   "cell_type": "code",
   "execution_count": 19,
   "id": "0de4e7d9-4b7b-4a51-bbcf-ddf669acc45d",
   "metadata": {},
   "outputs": [
    {
     "data": {
      "text/plain": [
       "45"
      ]
     },
     "execution_count": 19,
     "metadata": {},
     "output_type": "execute_result"
    }
   ],
   "source": [
    "obj.get_age()"
   ]
  },
  {
   "cell_type": "code",
   "execution_count": null,
   "id": "afd4dd2e-8ca9-4ecc-987a-ea49092ebcfb",
   "metadata": {},
   "outputs": [],
   "source": [
    "question 5"
   ]
  },
  {
   "cell_type": "code",
   "execution_count": null,
   "id": "81fb9668-e57e-4c27-b3c1-f6b8cc8e588e",
   "metadata": {},
   "outputs": [],
   "source": [
    "Method overriding in Python is when you have two methods with the same name that each perform different tasks."
   ]
  },
  {
   "cell_type": "code",
   "execution_count": 22,
   "id": "fe422a69-d054-460a-a688-1f1084df658f",
   "metadata": {},
   "outputs": [],
   "source": [
    "class A:\n",
    "    def __init__(self):\n",
    "        pass\n",
    "    def run(self):\n",
    "        print('parent class')\n",
    "class B(A):\n",
    "    def __init__(self):\n",
    "        pass\n",
    "    def run (self):\n",
    "        print('child class ')"
   ]
  },
  {
   "cell_type": "code",
   "execution_count": 23,
   "id": "50aaa05d-802a-4b33-bdbc-a199d4c1a6d0",
   "metadata": {},
   "outputs": [
    {
     "name": "stdout",
     "output_type": "stream",
     "text": [
      "child class \n"
     ]
    }
   ],
   "source": [
    "obj=B()\n",
    "obj.run()"
   ]
  },
  {
   "cell_type": "code",
   "execution_count": 24,
   "id": "da86b198-8651-4c27-a642-eb5d3d3353d9",
   "metadata": {},
   "outputs": [
    {
     "name": "stdout",
     "output_type": "stream",
     "text": [
      "parent class\n"
     ]
    }
   ],
   "source": [
    "obj=A()\n",
    "obj.run()"
   ]
  },
  {
   "cell_type": "code",
   "execution_count": null,
   "id": "ad9a651e-1607-4b21-8f21-437a473fd20e",
   "metadata": {},
   "outputs": [],
   "source": []
  }
 ],
 "metadata": {
  "kernelspec": {
   "display_name": "Python 3 (ipykernel)",
   "language": "python",
   "name": "python3"
  },
  "language_info": {
   "codemirror_mode": {
    "name": "ipython",
    "version": 3
   },
   "file_extension": ".py",
   "mimetype": "text/x-python",
   "name": "python",
   "nbconvert_exporter": "python",
   "pygments_lexer": "ipython3",
   "version": "3.10.8"
  }
 },
 "nbformat": 4,
 "nbformat_minor": 5
}
