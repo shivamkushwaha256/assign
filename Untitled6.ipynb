{
 "cells": [
  {
   "cell_type": "code",
   "execution_count": null,
   "id": "5369cb49-651b-4b5a-ae43-bb98f7b5aa3b",
   "metadata": {},
   "outputs": [],
   "source": [
    "                                                             QUESTION 1 "
   ]
  },
  {
   "cell_type": "code",
   "execution_count": null,
   "id": "c14ea87e-91b7-42c9-87ad-6f16574cf701",
   "metadata": {},
   "outputs": [],
   "source": [
    "\n",
    "    solution :  for loop \n",
    "                     In for loop initialization , condition checking and the iteration statement are written in starting . It is used only when the number of iteration are known \n",
    "                     if condition not mention it will run infinite time \n",
    "                       eg :-\n",
    "                              for i in range(10):\n",
    "                                  print(i)\n",
    "             \n",
    "                while loop \n",
    "                        In while loop only initialization and condition checking are written in starting . It is used only when the number of iteration are not known \n",
    "                        and if condition not mention it will give error    \n",
    "                    eg:-\n",
    "                        i = 0\n",
    "                        while i < 10:\n",
    "                            print(i)\n",
    "                            i=i+1 \n",
    "                     "
   ]
  },
  {
   "cell_type": "code",
   "execution_count": 1,
   "id": "0843f211-7770-4983-bbe8-efcd2fb96caa",
   "metadata": {},
   "outputs": [
    {
     "name": "stdout",
     "output_type": "stream",
     "text": [
      "0\n",
      "1\n",
      "2\n",
      "3\n",
      "4\n",
      "5\n",
      "6\n",
      "7\n",
      "8\n",
      "9\n"
     ]
    }
   ],
   "source": [
    " for i in range(10):\n",
    "        print(i)"
   ]
  },
  {
   "cell_type": "code",
   "execution_count": 2,
   "id": "31063abf-b11b-4ec2-9e04-f242b8e834cf",
   "metadata": {},
   "outputs": [
    {
     "name": "stdout",
     "output_type": "stream",
     "text": [
      "0\n",
      "1\n",
      "2\n",
      "3\n",
      "4\n",
      "5\n",
      "6\n",
      "7\n",
      "8\n",
      "9\n"
     ]
    }
   ],
   "source": [
    "i = 0\n",
    "while i < 10:\n",
    "    print(i)\n",
    "    i=i+1"
   ]
  },
  {
   "cell_type": "code",
   "execution_count": null,
   "id": "5a1c0ca5-dccc-438e-9bbe-28a193e03acd",
   "metadata": {},
   "outputs": [],
   "source": [
    "                                                                QUESTION 2 "
   ]
  },
  {
   "cell_type": "code",
   "execution_count": 1,
   "id": "17cae15d-370a-4925-bb70-01edeac20e5c",
   "metadata": {},
   "outputs": [
    {
     "name": "stdout",
     "output_type": "stream",
     "text": [
      "sum of 10 natural number is  55\n",
      "product of 10 natural number is  3628800\n"
     ]
    }
   ],
   "source": [
    "#SOLUTION\n",
    "# using for loop  \n",
    "sum = 0\n",
    "product = 1\n",
    "for i in range(1,11):\n",
    "    sum = sum + i\n",
    "    product = product *i \n",
    "print(\"sum of 10 natural number is \",sum)    \n",
    "print(\"product of 10 natural number is \",product)    "
   ]
  },
  {
   "cell_type": "code",
   "execution_count": 2,
   "id": "8e91126d-950a-4f9c-aaf2-50bc4a6be47e",
   "metadata": {},
   "outputs": [
    {
     "name": "stdout",
     "output_type": "stream",
     "text": [
      "sum of 10 natural number is  55\n",
      "product of 10 natural number is  3628800\n"
     ]
    }
   ],
   "source": [
    "# using while loop \n",
    "a = 1\n",
    "sum = 0\n",
    "product = 1\n",
    "    \n",
    "while a < 11:\n",
    "    sum = sum + a\n",
    "    product = product *a\n",
    "    a=a+1\n",
    "print(\"sum of 10 natural number is \",sum)    \n",
    "print(\"product of 10 natural number is \",product) \n",
    "    \n",
    "    "
   ]
  },
  {
   "cell_type": "code",
   "execution_count": null,
   "id": "1608115b-e722-47e2-842b-4656ed259910",
   "metadata": {},
   "outputs": [],
   "source": [
    "                                                              QUESTION 3 "
   ]
  },
  {
   "cell_type": "code",
   "execution_count": 9,
   "id": "5bf93b94-257d-4577-a4ed-39d7dffbf647",
   "metadata": {},
   "outputs": [
    {
     "name": "stdin",
     "output_type": "stream",
     "text": [
      "enter the no of unit consumed  310\n"
     ]
    },
    {
     "name": "stdout",
     "output_type": "stream",
     "text": [
      "the total bill is  2250.0\n"
     ]
    }
   ],
   "source": [
    "#SOLUTION \n",
    "unit = float(input('enter the no of unit consumed '))\n",
    "bill = 0\n",
    "if unit > 300 :\n",
    "    bill = (unit-300)*20\n",
    "    unit = 300\n",
    "if unit > 200:\n",
    "    bill = bill + (unit-200)*10\n",
    "    unit = 200\n",
    "if unit > 100 :\n",
    "    bill = bill + (unit-100)*6\n",
    "    unit = 100\n",
    "if unit > 0 :\n",
    "    bill = bill + unit*4.5\n",
    "\n",
    "print('the total bill is ',bill)\n",
    "\n",
    "    "
   ]
  },
  {
   "cell_type": "code",
   "execution_count": null,
   "id": "557514e7-9ab0-4c77-959f-6a182685a065",
   "metadata": {},
   "outputs": [],
   "source": [
    "                                              QUESTION 4 "
   ]
  },
  {
   "cell_type": "code",
   "execution_count": 14,
   "id": "4e2e6724-f2a4-4ff9-b703-001ad979e872",
   "metadata": {},
   "outputs": [
    {
     "name": "stdout",
     "output_type": "stream",
     "text": [
      "[0, 8, 64, 125, 216, 512, 1000, 1728, 2744, 3375, 4096, 5832, 8000, 10648, 13824, 15625, 17576, 21952, 27000, 32768, 39304, 42875, 46656, 54872, 64000, 74088, 85184, 91125, 97336, 110592, 125000, 140608, 157464, 166375, 175616, 195112, 216000, 238328, 262144, 274625, 287496, 314432, 343000, 373248, 405224, 421875, 438976, 474552, 512000, 551368, 592704, 614125, 636056, 681472, 729000, 778688, 830584, 857375, 884736, 941192, 1000000]\n"
     ]
    }
   ],
   "source": [
    "l = list(range(0,101))\n",
    "l1=[]\n",
    "for i in l :\n",
    "    if (i**3)%4==0 or (i**3)%5==0:\n",
    "        l1.append(i**3)\n",
    "print(l1)        "
   ]
  },
  {
   "cell_type": "code",
   "execution_count": 23,
   "id": "75c5ffa3-3446-4c0c-b372-5b2d9b1d037b",
   "metadata": {},
   "outputs": [
    {
     "name": "stdout",
     "output_type": "stream",
     "text": [
      "12\n",
      " I a o e o e a a a i e i\n"
     ]
    }
   ],
   "source": [
    "s = \"I want to become a data scientist\"\n",
    "count = 0\n",
    "s1 =\"\"\n",
    "for i in s :\n",
    "    if i in ['a','e','i','o','u','A','E','I','O','U']:\n",
    "        count = count+1 \n",
    "        s1 = s1 +\" \" +i\n",
    "print(count)\n",
    "print(s1)\n",
    "    "
   ]
  },
  {
   "cell_type": "code",
   "execution_count": null,
   "id": "02e7bbf6-652a-4fde-9d46-6e73b04ce567",
   "metadata": {},
   "outputs": [],
   "source": []
  }
 ],
 "metadata": {
  "kernelspec": {
   "display_name": "Python 3 (ipykernel)",
   "language": "python",
   "name": "python3"
  },
  "language_info": {
   "codemirror_mode": {
    "name": "ipython",
    "version": 3
   },
   "file_extension": ".py",
   "mimetype": "text/x-python",
   "name": "python",
   "nbconvert_exporter": "python",
   "pygments_lexer": "ipython3",
   "version": "3.10.8"
  }
 },
 "nbformat": 4,
 "nbformat_minor": 5
}
