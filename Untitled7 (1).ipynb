{
 "cells": [
  {
   "cell_type": "code",
   "execution_count": null,
   "id": "d8b50b06-8a41-4c30-a54c-ddad715b9b7f",
   "metadata": {},
   "outputs": [],
   "source": [
    "                                                                                       QUESTION 1 "
   ]
  },
  {
   "cell_type": "code",
   "execution_count": null,
   "id": "49531400-0248-43d2-ba91-5a775986bb58",
   "metadata": {},
   "outputs": [],
   "source": [
    "Python was created by Guido van Rossum, and first released on February 20, 1991"
   ]
  },
  {
   "cell_type": "code",
   "execution_count": null,
   "id": "80063e26-be0f-4475-9284-cbc41dcf8477",
   "metadata": {},
   "outputs": [],
   "source": [
    "                                                                                            QUESTIN 2 "
   ]
  },
  {
   "cell_type": "code",
   "execution_count": null,
   "id": "29f28823-6e3f-4676-afca-29d34f4877db",
   "metadata": {},
   "outputs": [],
   "source": [
    "Python is a multi-paradigm programming language. Object-oriented programming and structured programming are fully supported"
   ]
  },
  {
   "cell_type": "code",
   "execution_count": null,
   "id": "9eb180c8-c06e-449a-a4ea-d02f13829102",
   "metadata": {},
   "outputs": [],
   "source": [
    "                                                                                            QUESTION 3 "
   ]
  },
  {
   "cell_type": "code",
   "execution_count": null,
   "id": "baaade8d-014c-4be8-92d8-2bd6ef0bcef0",
   "metadata": {},
   "outputs": [],
   "source": [
    "Yes, Python is a case-sensitive language, i.e., it treats uppercase and lowercase characters differently"
   ]
  },
  {
   "cell_type": "code",
   "execution_count": null,
   "id": "67dd04c5-470b-4599-a4a7-6a9ad98d3ecd",
   "metadata": {},
   "outputs": [],
   "source": [
    "                                                                                            QUESTION 4 "
   ]
  },
  {
   "cell_type": "code",
   "execution_count": null,
   "id": "c21ea6c0-ff6e-4093-bb25-561107d1a70b",
   "metadata": {},
   "outputs": [],
   "source": [
    "The extensions for Python files are  . py , .pyi "
   ]
  },
  {
   "cell_type": "code",
   "execution_count": null,
   "id": "6e4d5af4-d838-4458-bafe-11c5c7fd2946",
   "metadata": {},
   "outputs": [],
   "source": [
    "                                                                                            QUESTION 5 "
   ]
  },
  {
   "cell_type": "code",
   "execution_count": null,
   "id": "c175a251-45e0-4e7f-9751-0142043ced85",
   "metadata": {},
   "outputs": [],
   "source": [
    "PYTHON CODE IS INTERPRETED "
   ]
  },
  {
   "cell_type": "code",
   "execution_count": null,
   "id": "646652fb-7042-4ecc-bc8e-6a686a26fe54",
   "metadata": {},
   "outputs": [],
   "source": [
    "                                                                                            QUESTION 6 "
   ]
  },
  {
   "cell_type": "code",
   "execution_count": null,
   "id": "d20908f7-e808-49d3-b907-7119084fb45d",
   "metadata": {},
   "outputs": [],
   "source": [
    " a module , function , class "
   ]
  },
  {
   "cell_type": "code",
   "execution_count": null,
   "id": "0c7fc790-96e5-44a9-b3fb-840d877d4bd2",
   "metadata": {},
   "outputs": [],
   "source": [
    "                                                                                                QUESTION 7 "
   ]
  },
  {
   "cell_type": "code",
   "execution_count": null,
   "id": "17befd00-b01f-4786-b898-e026783aa3e3",
   "metadata": {},
   "outputs": [],
   "source": [
    " SINGLE # "
   ]
  },
  {
   "cell_type": "code",
   "execution_count": null,
   "id": "21ac0101-b1d2-4503-b15e-fabe36422efb",
   "metadata": {},
   "outputs": [],
   "source": [
    "                                                                                        QUESTION 8 "
   ]
  },
  {
   "cell_type": "code",
   "execution_count": 4,
   "id": "3b1a9f38-48c8-4fd3-be54-f2b43607226f",
   "metadata": {},
   "outputs": [
    {
     "data": {
      "text/plain": [
       "'3.10.8 | packaged by conda-forge | (main, Nov 22 2022, 08:26:04) [GCC 10.4.0]'"
      ]
     },
     "execution_count": 4,
     "metadata": {},
     "output_type": "execute_result"
    }
   ],
   "source": [
    "sys.version"
   ]
  },
  {
   "cell_type": "code",
   "execution_count": null,
   "id": "bac6de22-cc5e-4d4f-9e99-2ede390e74fe",
   "metadata": {},
   "outputs": [],
   "source": [
    "                                                                                        question 9 "
   ]
  },
  {
   "cell_type": "code",
   "execution_count": null,
   "id": "f3bdb938-6bce-445f-9ac1-ac7132a67065",
   "metadata": {},
   "outputs": [],
   "source": [
    "lambda "
   ]
  },
  {
   "cell_type": "code",
   "execution_count": null,
   "id": "ba29d12b-96a2-45f0-9151-9be7eea990ab",
   "metadata": {},
   "outputs": [],
   "source": [
    "                                                                                QUESTION 10 "
   ]
  },
  {
   "cell_type": "code",
   "execution_count": null,
   "id": "b9cf78b1-c85b-4569-a100-824e331684ac",
   "metadata": {},
   "outputs": [],
   "source": [
    "preferred installer program"
   ]
  },
  {
   "cell_type": "code",
   "execution_count": null,
   "id": "4fc31c0b-0314-40e2-8607-d7d249d361f5",
   "metadata": {},
   "outputs": [],
   "source": [
    "                                                                                QUESTION 11"
   ]
  },
  {
   "cell_type": "code",
   "execution_count": null,
   "id": "b8744ba6-5ff2-4328-80b8-f0ddb6a48835",
   "metadata": {},
   "outputs": [],
   "source": [
    "pow(), type(), abs(),max()"
   ]
  },
  {
   "cell_type": "code",
   "execution_count": null,
   "id": "41cd1599-3f37-4d05-81f4-27a22fde48b6",
   "metadata": {},
   "outputs": [],
   "source": [
    "                                                                                        QUESTION 12\n"
   ]
  },
  {
   "cell_type": "code",
   "execution_count": null,
   "id": "43eb9fea-0523-477c-854b-a373fb15e420",
   "metadata": {},
   "outputs": [],
   "source": [
    "79"
   ]
  },
  {
   "cell_type": "code",
   "execution_count": null,
   "id": "cdce0abe-a2a8-44b5-9766-e9d74d62ccd0",
   "metadata": {},
   "outputs": [],
   "source": [
    "                                                                                        QUESTION 13 "
   ]
  },
  {
   "cell_type": "code",
   "execution_count": null,
   "id": "f4dc26da-ea3e-4bbd-88e6-acbbf7b883ff",
   "metadata": {},
   "outputs": [],
   "source": [
    "Easy to Read, Learn and Write\n",
    "Interpreted Language\n",
    "Dynamically Typed\n",
    "Vast Libraries Support"
   ]
  },
  {
   "cell_type": "code",
   "execution_count": null,
   "id": "dfbe664b-6492-47e9-a018-68f5ee7c48df",
   "metadata": {},
   "outputs": [],
   "source": [
    "                                                                                        QUESTION 14"
   ]
  },
  {
   "cell_type": "code",
   "execution_count": null,
   "id": "c126dc5b-561e-4062-9e35-4151d0936fd5",
   "metadata": {},
   "outputs": [],
   "source": [
    "Memory in Python is managed by Python private heap space. All Python objects and data structures are located in a private heap.\n",
    "This private heap is taken care of by Python Interpreter itself, and a programmer doesn't have access to this private heap"
   ]
  },
  {
   "cell_type": "code",
   "execution_count": null,
   "id": "918e8630-ab80-42d5-a85c-72fa378fef28",
   "metadata": {},
   "outputs": [],
   "source": [
    "                                                                                        QUESTION 15 "
   ]
  },
  {
   "cell_type": "code",
   "execution_count": null,
   "id": "e1960551-c7a6-41b3-a213-ef53573fea01",
   "metadata": {},
   "outputs": [],
   "source": [
    "Right-clicking This PC and going to Properties.\n",
    "\n",
    "Clicking on the Advanced system settings in the menu on the left.\n",
    "\n",
    "Clicking on the Environment Variables button on the bottom right.\n",
    "\n",
    "In the System variables section, selecting the Path variable and clicking on Edit. The next screen will show all the directories that are currently a part of the PATH variable.\n",
    "\n",
    "Clicking on New and entering Python’s install directory."
   ]
  },
  {
   "cell_type": "code",
   "execution_count": null,
   "id": "125c9b15-46a0-4783-84a4-4296116131e2",
   "metadata": {},
   "outputs": [],
   "source": [
    "                                                                                                QUESTION 16"
   ]
  },
  {
   "cell_type": "code",
   "execution_count": null,
   "id": "ed4b7637-429a-4f28-9bec-16e6ee206bec",
   "metadata": {},
   "outputs": [],
   "source": [
    " the indentation in Python is very important. Python uses indentation to indicate a block of code"
   ]
  }
 ],
 "metadata": {
  "kernelspec": {
   "display_name": "Python 3 (ipykernel)",
   "language": "python",
   "name": "python3"
  },
  "language_info": {
   "codemirror_mode": {
    "name": "ipython",
    "version": 3
   },
   "file_extension": ".py",
   "mimetype": "text/x-python",
   "name": "python",
   "nbconvert_exporter": "python",
   "pygments_lexer": "ipython3",
   "version": "3.10.8"
  }
 },
 "nbformat": 4,
 "nbformat_minor": 5
}
