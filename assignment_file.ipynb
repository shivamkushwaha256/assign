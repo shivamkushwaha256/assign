{
 "cells": [
  {
   "cell_type": "code",
   "execution_count": null,
   "id": "44106f88-53f1-4732-a5e3-b56aab5c5d5d",
   "metadata": {},
   "outputs": [],
   "source": [
    "# question 1 \n",
    "open() function is used to open a file in python .  \n",
    "Following are  mode of open a file:-\n",
    "1) reading mode 'r' in this mode file is opened in reading mode mean only reading can be perform on file \n",
    "2) writing mode 'w' in this mode file is opened in writing mode mean we can write in the file .\n",
    "3) 'a' in this mode we can append data in last mean we can add data to file without deleting the previous data .\n",
    "4) 'x' in this mode we create a new file to write \n",
    "5)'t' open file in text mode \n",
    "6) 'b' open file in binary mode it is used as 'r + b' or 'r + b'"
   ]
  },
  {
   "cell_type": "code",
   "execution_count": null,
   "id": "6ff15dbf-2b7c-474b-a2bd-dfc53ea44293",
   "metadata": {},
   "outputs": [],
   "source": [
    "#question 2 \n",
    "close() funtion is used to close a file.\n",
    "it is important to close a file if we don't close a file there a time come from where we can't open more so it's always a good practise to close a file .\n"
   ]
  },
  {
   "cell_type": "code",
   "execution_count": 1,
   "id": "d2c266ed-2893-472a-b870-70f10cde98aa",
   "metadata": {},
   "outputs": [],
   "source": [
    "#question 3 \n",
    "with open(\"data6.txt\",'w')as f:\n",
    "    f.write(\"I want to become a Data Scientist\")\n",
    "    "
   ]
  },
  {
   "cell_type": "code",
   "execution_count": 2,
   "id": "93cde7db-a8a2-4f10-ab79-28b2df3ef38e",
   "metadata": {},
   "outputs": [
    {
     "name": "stdout",
     "output_type": "stream",
     "text": [
      "I want to become a Data Scientist\n"
     ]
    }
   ],
   "source": [
    "with open(\"data6.txt\",'r')as f:\n",
    "    print(f.read())"
   ]
  },
  {
   "cell_type": "code",
   "execution_count": null,
   "id": "5fcc1686-08c3-45c1-9d86-e2983bb0d497",
   "metadata": {},
   "outputs": [],
   "source": [
    "# question 4\n",
    "read() :- it is used to read a file whole at once and return as a string .\n",
    "readlline() :- it is used to read line at once and return as a string  .\n",
    "readlines() :-it is used to read a line at once and return it in a list .\n"
   ]
  },
  {
   "cell_type": "code",
   "execution_count": 8,
   "id": "8f23557a-69f9-4074-a97c-989984bb8e9b",
   "metadata": {},
   "outputs": [
    {
     "name": "stdout",
     "output_type": "stream",
     "text": [
      " read() *-*-*-*-*-*-**-*-*-*-*-*-*-*-\n",
      "first line \n",
      "second line \n",
      "third line\n",
      "fokurth line \n",
      "fifth line \n",
      "sixth line\n",
      "seventh line\n",
      "\n",
      " readline() *-*-*-*-*-*-**-*-*-*-*-*-*-*-\n",
      "first line \n",
      "\n",
      " readlines() *-*-*-*-*-*-**-*-*-*-*-*-*-*-\n",
      "['second line \\n']\n"
     ]
    }
   ],
   "source": [
    "#example \n",
    "with open(\"test.txt\",'r')as f:\n",
    "    print(\" read() *-*-*-*-*-*-**-*-*-*-*-*-*-*-\")\n",
    "    print(f.read())\n",
    "    f.seek(0)\n",
    "    print(\" readline() *-*-*-*-*-*-**-*-*-*-*-*-*-*-\")\n",
    "    print(f.readline())\n",
    "    print(\" readlines() *-*-*-*-*-*-**-*-*-*-*-*-*-*-\")\n",
    "    print(f.readlines(2))"
   ]
  },
  {
   "cell_type": "code",
   "execution_count": null,
   "id": "5940d2f5-71df-4fa2-9927-87febf0e73f3",
   "metadata": {},
   "outputs": [],
   "source": [
    "#question 5\n",
    "'with' is used with open() because  it automatically close the file .\n",
    "when we use 'with' with open() it automatically close the file which help to reduce error or corruption of file which can be occur due to not closing the file."
   ]
  },
  {
   "cell_type": "code",
   "execution_count": null,
   "id": "092684fe-c2b9-4c75-905e-89662b75b06b",
   "metadata": {},
   "outputs": [],
   "source": [
    "#question 6 \n",
    "write() is used to write string in a opened file.\n",
    "writelines() is used to write list f string in a opened file "
   ]
  }
 ],
 "metadata": {
  "kernelspec": {
   "display_name": "Python 3 (ipykernel)",
   "language": "python",
   "name": "python3"
  },
  "language_info": {
   "codemirror_mode": {
    "name": "ipython",
    "version": 3
   },
   "file_extension": ".py",
   "mimetype": "text/x-python",
   "name": "python",
   "nbconvert_exporter": "python",
   "pygments_lexer": "ipython3",
   "version": "3.10.8"
  }
 },
 "nbformat": 4,
 "nbformat_minor": 5
}
