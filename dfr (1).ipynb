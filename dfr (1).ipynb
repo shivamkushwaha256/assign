{
 "cells": [
  {
   "cell_type": "code",
   "execution_count": 1,
   "id": "df85746a-ee6d-4975-a685-b052145d453c",
   "metadata": {},
   "outputs": [],
   "source": [
    "s =[('Sachin Tendulkar', 34357), ('Ricky Ponting', 27483), ('Jack Kallis', 25534), ('Virat Kohli', 24936)]\n",
    "s.sort(key=lambda x : x[1])"
   ]
  },
  {
   "cell_type": "code",
   "execution_count": 2,
   "id": "86c5778f-7b78-42e4-b71a-ff6abd2a6c91",
   "metadata": {},
   "outputs": [
    {
     "name": "stdout",
     "output_type": "stream",
     "text": [
      "[('Virat Kohli', 24936), ('Jack Kallis', 25534), ('Ricky Ponting', 27483), ('Sachin Tendulkar', 34357)]\n"
     ]
    }
   ],
   "source": [
    "print(s)"
   ]
  },
  {
   "cell_type": "code",
   "execution_count": null,
   "id": "9f6ee357-bc63-46e1-93ea-14e344bc6143",
   "metadata": {},
   "outputs": [],
   "source": [
    "QUESTION  2"
   ]
  },
  {
   "cell_type": "code",
   "execution_count": 5,
   "id": "fbf72e9a-b861-4d52-b6fb-6e61adf8f89c",
   "metadata": {},
   "outputs": [],
   "source": [
    "l = [1, 2, 3, 4, 5, 6, 7, 8, 9, 10]\n",
    "s = list(map(lambda x :x**2 , l  ))"
   ]
  },
  {
   "cell_type": "code",
   "execution_count": 6,
   "id": "99de6b4b-0396-4e99-888f-5e38900988fb",
   "metadata": {},
   "outputs": [
    {
     "data": {
      "text/plain": [
       "[1, 4, 9, 16, 25, 36, 49, 64, 81, 100]"
      ]
     },
     "execution_count": 6,
     "metadata": {},
     "output_type": "execute_result"
    }
   ],
   "source": [
    "s"
   ]
  },
  {
   "cell_type": "code",
   "execution_count": null,
   "id": "a40af622-04c1-43f2-8a27-6cc8871b2931",
   "metadata": {},
   "outputs": [],
   "source": [
    "QUESTION 3"
   ]
  },
  {
   "cell_type": "code",
   "execution_count": 8,
   "id": "44b21887-6ee2-4167-b0b4-2665ee47136b",
   "metadata": {},
   "outputs": [
    {
     "name": "stdout",
     "output_type": "stream",
     "text": [
      "('1', '2', '3', '4', '5', '6', '7', '8', '9', '10')\n"
     ]
    }
   ],
   "source": [
    "s = [1, 2, 3, 4, 5, 6, 7, 8, 9, 10]\n",
    "t = tuple(map(lambda x :str(x),s))\n",
    "print(t)"
   ]
  },
  {
   "cell_type": "code",
   "execution_count": null,
   "id": "cb952ebf-5cf1-4689-9337-5de667e98e1c",
   "metadata": {},
   "outputs": [],
   "source": [
    "QUESTION 4"
   ]
  },
  {
   "cell_type": "code",
   "execution_count": 12,
   "id": "1b3f2b51-5258-4538-89a0-764a61f62589",
   "metadata": {},
   "outputs": [],
   "source": [
    "from functools import reduce\n",
    "d = reduce(lambda x,y:x*y ,range(1,26) )"
   ]
  },
  {
   "cell_type": "code",
   "execution_count": 13,
   "id": "397e509d-4e05-405d-8785-774b47fe9b52",
   "metadata": {},
   "outputs": [
    {
     "name": "stdout",
     "output_type": "stream",
     "text": [
      "15511210043330985984000000\n"
     ]
    }
   ],
   "source": [
    "print(d)"
   ]
  },
  {
   "cell_type": "code",
   "execution_count": null,
   "id": "a1219d24-88a7-4bfc-9529-910b8909b7e7",
   "metadata": {},
   "outputs": [],
   "source": [
    "QUESTION 5 "
   ]
  },
  {
   "cell_type": "code",
   "execution_count": 29,
   "id": "b32ecef9-0661-4f4a-baac-081504afb159",
   "metadata": {},
   "outputs": [],
   "source": [
    "s = [2, 3, 6, 9, 27, 60, 90, 120, 55, 46]\n",
    "d = list(filter(lambda x:x%6==0 ,s))"
   ]
  },
  {
   "cell_type": "code",
   "execution_count": 30,
   "id": "717893b4-bbcf-4816-8062-163d10464729",
   "metadata": {},
   "outputs": [
    {
     "name": "stdout",
     "output_type": "stream",
     "text": [
      "[6, 60, 90, 120]\n"
     ]
    }
   ],
   "source": [
    "print(d)"
   ]
  },
  {
   "cell_type": "code",
   "execution_count": null,
   "id": "fe78214f-c0e4-47d2-b170-9243a94cc608",
   "metadata": {},
   "outputs": [],
   "source": [
    "QUESTION 6"
   ]
  },
  {
   "cell_type": "code",
   "execution_count": 23,
   "id": "643bf72b-cb3e-4dd8-8bee-5df5be752f55",
   "metadata": {},
   "outputs": [],
   "source": [
    "s = ['python', 'php', 'aba', 'radar', 'level']\n",
    "d = list(filter(lambda x : (x==\"\".join(reversed(x))),s))"
   ]
  },
  {
   "cell_type": "code",
   "execution_count": 28,
   "id": "69316ec6-8cec-4a4e-8b9a-e4b99417e0f9",
   "metadata": {},
   "outputs": [
    {
     "name": "stdout",
     "output_type": "stream",
     "text": [
      "['php', 'aba', 'radar', 'level']\n"
     ]
    }
   ],
   "source": [
    "print(d)"
   ]
  }
 ],
 "metadata": {
  "kernelspec": {
   "display_name": "Python 3 (ipykernel)",
   "language": "python",
   "name": "python3"
  },
  "language_info": {
   "codemirror_mode": {
    "name": "ipython",
    "version": 3
   },
   "file_extension": ".py",
   "mimetype": "text/x-python",
   "name": "python",
   "nbconvert_exporter": "python",
   "pygments_lexer": "ipython3",
   "version": "3.10.8"
  }
 },
 "nbformat": 4,
 "nbformat_minor": 5
}
