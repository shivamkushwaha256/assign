{
 "cells": [
  {
   "cell_type": "code",
   "execution_count": null,
   "id": "3ca5e29f-83ce-4dd5-a7fc-beffa920b022",
   "metadata": {},
   "outputs": [],
   "source": [
    "#question 1\n",
    "exception are the error which are caused due to the syntax or logical errors.\n",
    "syntax error :-\n",
    "syntax are occur when code violates the syntax rules of the programming language.\n",
    "exception error:-\n",
    "exception are the error which occur during program execution when a code block encounters an error"
   ]
  },
  {
   "cell_type": "code",
   "execution_count": null,
   "id": "d7a6336b-6ee7-4b8b-ba56-c8292a620870",
   "metadata": {},
   "outputs": [],
   "source": [
    "#questin 2 \n",
    "When an exception is not handled in a program, the program usually terminates abruptly, and the user may see a message like \"Program has stopped working\" or \"An unexpected error has occurred\".\n",
    "This can result in the loss of unsaved data, damage to the system, and frustration for the user.\n",
    "\n",
    "For example, if a program attempts to divide a number by zero, an exception (division by zero) will be raised. \n",
    "If the program doesn't handle this exception, it will crash and show an error message to the user, and any unsaved data may be lost.\n",
    "On the other hand, if the program handles the exception properly, it can display a more meaningful error message to the user,\n",
    "ask them to enter a different input, or even recover and continue running"
   ]
  },
  {
   "cell_type": "code",
   "execution_count": null,
   "id": "75bee19c-d8ac-4054-9a5b-b429776d4f6e",
   "metadata": {},
   "outputs": [],
   "source": [
    "# question 3 :-\n",
    "try is used to catch a exception and except is used to handle it .\n"
   ]
  },
  {
   "cell_type": "code",
   "execution_count": 6,
   "id": "6d177c23-4cd7-484a-864f-39e7f102c7cf",
   "metadata": {},
   "outputs": [
    {
     "name": "stdout",
     "output_type": "stream",
     "text": [
      "i am handling division by zero\n"
     ]
    }
   ],
   "source": [
    "# example\n",
    "try:\n",
    "    c=10/0\n",
    "except ZeroDivisionError as e:\n",
    "    print(\"i am handling\",e)"
   ]
  },
  {
   "cell_type": "code",
   "execution_count": 13,
   "id": "11db4f4a-5014-4e7f-87d0-6c64ace2c7ba",
   "metadata": {},
   "outputs": [
    {
     "name": "stdout",
     "output_type": "stream",
     "text": [
      "100000 division by 1 to 10 = 11111.111111111111\n",
      "program completed \n"
     ]
    }
   ],
   "source": [
    "#question 4 \n",
    "#try and else :-\n",
    "try:\n",
    "    for i in range(1,10):\n",
    "        a= 100000\n",
    "        a=a/i   \n",
    "except ZeroDivisionError as e:\n",
    "    print(e)\n",
    "else:\n",
    "    print(\"100000 division by 1 to 10 =\",a)\n",
    "#try and else :- if try doesnot get any error then else will excutes otherwise it will not excute.    \n",
    "finally :\n",
    "    print(\"program completed \")\n",
    "#finally :- finally block will excutes everytime regardless of error occur or not occur \n",
    "#raise :- raise is used to call exception class with a message\n",
    "    #   raise check(\"age can't be negative\") "
   ]
  },
  {
   "cell_type": "code",
   "execution_count": 15,
   "id": "62cfd86d-0008-4dbf-8c7d-44c5c54d383e",
   "metadata": {},
   "outputs": [],
   "source": [
    "#question 5 \n",
    " Custom exceptions in Python are user-defined exceptions that are created to handle certain exceptional situations that cannot be handled by standard Python exceptions. \n",
    "These custom exceptions can be defined using the 'class' keyword in Python.\n",
    "\n",
    "We need custom exceptions in Python to make our code more robust and error-free. With custom exceptions,\n",
    "we can explicitly define the error messages and the behavior of the program when a specific type of error occurs.\n",
    "\n",
    "example \n",
    "For example, let's say we are building a program that processes customer orders. We want to ensure that the price of an order is not negative.\n",
    "We can create a custom exception called \"NegativePriceError\" that will be raised when a negative price is detected. Here is an example implementation:\n",
    "\n"
   ]
  },
  {
   "cell_type": "code",
   "execution_count": 16,
   "id": "db9b9a02-27d3-4c7c-b7d7-e350a8dcdbe9",
   "metadata": {},
   "outputs": [
    {
     "name": "stdin",
     "output_type": "stream",
     "text": [
      "enter the age 254\n"
     ]
    },
    {
     "ename": "check",
     "evalue": "age is too large",
     "output_type": "error",
     "traceback": [
      "\u001b[0;31m---------------------------------------------------------------------------\u001b[0m",
      "\u001b[0;31mcheck\u001b[0m                                     Traceback (most recent call last)",
      "Cell \u001b[0;32mIn[16], line 14\u001b[0m\n\u001b[1;32m     11\u001b[0m         \u001b[38;5;28mprint\u001b[39m(\u001b[38;5;124m\"\u001b[39m\u001b[38;5;124mage is normal\u001b[39m\u001b[38;5;124m\"\u001b[39m)\n\u001b[1;32m     13\u001b[0m a \u001b[38;5;241m=\u001b[39m \u001b[38;5;28mint\u001b[39m(\u001b[38;5;28minput\u001b[39m(\u001b[38;5;124m'\u001b[39m\u001b[38;5;124menter the age\u001b[39m\u001b[38;5;124m'\u001b[39m))        \n\u001b[0;32m---> 14\u001b[0m \u001b[43mvalidate\u001b[49m\u001b[43m(\u001b[49m\u001b[43ma\u001b[49m\u001b[43m)\u001b[49m\n",
      "Cell \u001b[0;32mIn[16], line 9\u001b[0m, in \u001b[0;36mvalidate\u001b[0;34m(age)\u001b[0m\n\u001b[1;32m      7\u001b[0m     \u001b[38;5;28;01mraise\u001b[39;00m check(\u001b[38;5;124m\"\u001b[39m\u001b[38;5;124mage can\u001b[39m\u001b[38;5;124m'\u001b[39m\u001b[38;5;124mt be negative\u001b[39m\u001b[38;5;124m\"\u001b[39m)\n\u001b[1;32m      8\u001b[0m \u001b[38;5;28;01melif\u001b[39;00m age\u001b[38;5;241m>\u001b[39m\u001b[38;5;241m200\u001b[39m:\n\u001b[0;32m----> 9\u001b[0m     \u001b[38;5;28;01mraise\u001b[39;00m check(\u001b[38;5;124m\"\u001b[39m\u001b[38;5;124mage is too large\u001b[39m\u001b[38;5;124m\"\u001b[39m)\n\u001b[1;32m     10\u001b[0m \u001b[38;5;28;01melse\u001b[39;00m:\n\u001b[1;32m     11\u001b[0m     \u001b[38;5;28mprint\u001b[39m(\u001b[38;5;124m\"\u001b[39m\u001b[38;5;124mage is normal\u001b[39m\u001b[38;5;124m\"\u001b[39m)\n",
      "\u001b[0;31mcheck\u001b[0m: age is too large"
     ]
    }
   ],
   "source": [
    "#question 6\n",
    "class check(Exception):\n",
    "    def __init__(self,mes):\n",
    "        self.mes=mes\n",
    "def validate(age):\n",
    "    if age<0:\n",
    "        raise check(\"age can't be negative\")\n",
    "    elif age>200:\n",
    "        raise check(\"age is too large\")\n",
    "    else:\n",
    "        print(\"age is normal\")\n",
    "        \n",
    "a = int(input('enter the age'))        \n",
    "validate(a)"
   ]
  },
  {
   "cell_type": "code",
   "execution_count": null,
   "id": "3f52a8e5-25f5-45bf-9970-3b73db513c50",
   "metadata": {},
   "outputs": [],
   "source": []
  }
 ],
 "metadata": {
  "kernelspec": {
   "display_name": "Python 3 (ipykernel)",
   "language": "python",
   "name": "python3"
  },
  "language_info": {
   "codemirror_mode": {
    "name": "ipython",
    "version": 3
   },
   "file_extension": ".py",
   "mimetype": "text/x-python",
   "name": "python",
   "nbconvert_exporter": "python",
   "pygments_lexer": "ipython3",
   "version": "3.10.8"
  }
 },
 "nbformat": 4,
 "nbformat_minor": 5
}
