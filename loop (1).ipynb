{
 "cells": [
  {
   "cell_type": "code",
   "execution_count": null,
   "id": "a258e239-994c-4db4-8f42-a68cb5125a94",
   "metadata": {},
   "outputs": [],
   "source": []
  },
  {
   "cell_type": "code",
   "execution_count": 1,
   "id": "cfe092e9-e0e4-4c31-a586-02951b92e12a",
   "metadata": {},
   "outputs": [
    {
     "name": "stdin",
     "output_type": "stream",
     "text": [
      "enter the percentage  53\n"
     ]
    },
    {
     "name": "stdout",
     "output_type": "stream",
     "text": [
      "D\n"
     ]
    }
   ],
   "source": [
    "pert = float(input('enter the percentage '))\n",
    "if pert>90:\n",
    "    grade = 'A'\n",
    "elif pert>80 and pert <=90 :\n",
    "    grade = 'B'\n",
    "elif pert>=60 and pert<=80:\n",
    "    grade ='C'\n",
    "else :\n",
    "    grade = 'D'\n",
    "print(grade)    "
   ]
  },
  {
   "cell_type": "code",
   "execution_count": null,
   "id": "fba867c7-9ef1-485d-8e2b-6cf2bfd9f3e4",
   "metadata": {},
   "outputs": [],
   "source": [
    " QUESTION 2 "
   ]
  },
  {
   "cell_type": "code",
   "execution_count": 3,
   "id": "42a16745-1e48-44c5-bb6b-f7a275983775",
   "metadata": {},
   "outputs": [
    {
     "name": "stdin",
     "output_type": "stream",
     "text": [
      "enter the cost  452368\n"
     ]
    },
    {
     "name": "stdout",
     "output_type": "stream",
     "text": [
      "67855.2\n"
     ]
    }
   ],
   "source": [
    "cost = int(input('enter the cost '))\n",
    "if cost > 100000:\n",
    "           tax = (15*cost)/100\n",
    "elif cost >50000 and cost <=100000:\n",
    "           tax = (10*cost)/100\n",
    "elif cost<=50000:\n",
    "           tax = (5*cost)/100\n",
    "print(tax)           "
   ]
  },
  {
   "cell_type": "code",
   "execution_count": null,
   "id": "c54936bd-b6da-4bc4-96af-5b07cfa4e91f",
   "metadata": {},
   "outputs": [],
   "source": [
    "QUESTION 3 "
   ]
  },
  {
   "cell_type": "code",
   "execution_count": 5,
   "id": "b486ca34-1010-448e-b2f3-8f3b34e85e72",
   "metadata": {},
   "outputs": [
    {
     "name": "stdin",
     "output_type": "stream",
     "text": [
      "enter the city  DELHI\n"
     ]
    },
    {
     "name": "stdout",
     "output_type": "stream",
     "text": [
      "Red Fort \n"
     ]
    }
   ],
   "source": [
    "city = input(\"enter the city \")\n",
    "if city in ['Delhi','DELHI','delhi']:\n",
    "    monument = 'Red Fort '\n",
    "elif city in ['AGRA','Agra','agra']:\n",
    "    monument = 'Taj Mahal '\n",
    "elif city in ['JAIPUR','Jaipur','jaipur']:\n",
    "    monument= 'Jal Mahal'\n",
    "print(monument)    "
   ]
  },
  {
   "cell_type": "code",
   "execution_count": null,
   "id": "8cbe8971-76ad-4098-ad81-4371aaede2ca",
   "metadata": {},
   "outputs": [],
   "source": [
    "QUESTION 4 "
   ]
  },
  {
   "cell_type": "code",
   "execution_count": 3,
   "id": "c03ba32f-647e-4110-b180-9df42c5a4d88",
   "metadata": {},
   "outputs": [
    {
     "name": "stdin",
     "output_type": "stream",
     "text": [
      "enter the no  56\n"
     ]
    },
    {
     "name": "stdout",
     "output_type": "stream",
     "text": [
      "2\n"
     ]
    }
   ],
   "source": [
    "a = float(input('enter the no '))\n",
    "count = 0              \n",
    "while a>=10 :\n",
    "    count = count + 1 \n",
    "    a = a/3\n",
    "        \n",
    "print(count) "
   ]
  },
  {
   "cell_type": "code",
   "execution_count": null,
   "id": "9ed7396b-3877-463c-bb47-8e9201c0d49d",
   "metadata": {},
   "outputs": [],
   "source": [
    " QUESTION 5 "
   ]
  },
  {
   "cell_type": "code",
   "execution_count": null,
   "id": "255ac9f1-47e6-4ead-92d3-63480416efc0",
   "metadata": {},
   "outputs": [],
   "source": [
    "A While loop in Python allows a part of the code to be executed repeatedly as long as a given condition is true. The While loop in Python is also called a pre-tested loop. It is typically used when the number of iterations is not known."
   ]
  },
  {
   "cell_type": "code",
   "execution_count": 4,
   "id": "e283bce3-34a8-449b-bab3-ad8b566ae0ec",
   "metadata": {},
   "outputs": [
    {
     "name": "stdin",
     "output_type": "stream",
     "text": [
      "enter the no  45\n"
     ]
    },
    {
     "name": "stdout",
     "output_type": "stream",
     "text": [
      "no of times ,no is divible by 2   7\n"
     ]
    }
   ],
   "source": [
    "n = int(input('enter the no '))\n",
    "while n>2:\n",
    "    count = count + 1 \n",
    "    n = n/2 \n",
    "print('no of times ,no is divible by 2  ' , count)    "
   ]
  },
  {
   "cell_type": "code",
   "execution_count": null,
   "id": "3c314bee-9e8d-47d2-8d7d-5b4d836ec058",
   "metadata": {},
   "outputs": [],
   "source": [
    " QUESTION 6 "
   ]
  },
  {
   "cell_type": "code",
   "execution_count": 21,
   "id": "a225db6c-ab4d-4179-a1cc-6a19e30cae0f",
   "metadata": {},
   "outputs": [
    {
     "name": "stdout",
     "output_type": "stream",
     "text": [
      "* * * * * \n",
      "* * * * \n",
      "* * * \n",
      "* * \n",
      "* \n"
     ]
    }
   ],
   "source": [
    "i = 0\n",
    "while i < 5:\n",
    "    j = 5\n",
    "    while j>i:\n",
    "        print('*',end=\" \")\n",
    "        j= j-1\n",
    "    print()\n",
    "    i = i+1 "
   ]
  },
  {
   "cell_type": "code",
   "execution_count": 1,
   "id": "163508d0-bc32-4241-bc80-52de31e6794a",
   "metadata": {},
   "outputs": [
    {
     "name": "stdout",
     "output_type": "stream",
     "text": [
      "* * * * \n",
      "* * * \n",
      "* * \n",
      "* \n",
      "\n"
     ]
    }
   ],
   "source": [
    "i = 5\n",
    "while i > 0 :\n",
    "    j = 1\n",
    "    while j<i:\n",
    "        print('*',end=\" \")\n",
    "        j= j+1\n",
    "    print()\n",
    "    i = i-1"
   ]
  },
  {
   "cell_type": "code",
   "execution_count": 5,
   "id": "9c88cbcb-6477-49c3-ab0f-e5f88cd028d1",
   "metadata": {},
   "outputs": [
    {
     "name": "stdout",
     "output_type": "stream",
     "text": [
      "* * * * \n",
      "* * * * \n",
      "* * * * \n",
      "* * * * \n"
     ]
    }
   ],
   "source": [
    "i = 1\n",
    "while i < 5 :\n",
    "    j = 1\n",
    "    while j<5:\n",
    "        print('*',end=\" \")\n",
    "        j= j+1\n",
    "    print()\n",
    "    i = i+1"
   ]
  },
  {
   "cell_type": "code",
   "execution_count": null,
   "id": "5442a9c9-674d-419e-b9f2-46d4a8bf4b34",
   "metadata": {},
   "outputs": [],
   "source": [
    "QUESTION 7 "
   ]
  },
  {
   "cell_type": "code",
   "execution_count": 1,
   "id": "6ba6a93f-5d46-4c6f-b52d-1d5b55ecdfb0",
   "metadata": {},
   "outputs": [
    {
     "name": "stdout",
     "output_type": "stream",
     "text": [
      "10\n",
      "9\n",
      "8\n",
      "7\n",
      "6\n",
      "5\n",
      "4\n",
      "3\n",
      "2\n",
      "1\n"
     ]
    }
   ],
   "source": [
    "i = 10 \n",
    "while i>0:\n",
    "    print(i)\n",
    "    i= i -1 "
   ]
  },
  {
   "cell_type": "code",
   "execution_count": null,
   "id": "62c915be-9778-45c9-ad26-e14cfe0e85df",
   "metadata": {},
   "outputs": [],
   "source": [
    "QUESTION 8 SAME AS QUESTION 7 "
   ]
  },
  {
   "cell_type": "code",
   "execution_count": 1,
   "id": "388763cf-802b-4735-b42c-8cbc5531d183",
   "metadata": {},
   "outputs": [
    {
     "name": "stdout",
     "output_type": "stream",
     "text": [
      "10\n",
      "9\n",
      "8\n",
      "7\n",
      "6\n",
      "5\n",
      "4\n",
      "3\n",
      "2\n",
      "1\n"
     ]
    }
   ],
   "source": [
    "i = 10 \n",
    "while i>0:\n",
    "    print(i)\n",
    "    i= i -1 "
   ]
  }
 ],
 "metadata": {
  "kernelspec": {
   "display_name": "Python 3 (ipykernel)",
   "language": "python",
   "name": "python3"
  },
  "language_info": {
   "codemirror_mode": {
    "name": "ipython",
    "version": 3
   },
   "file_extension": ".py",
   "mimetype": "text/x-python",
   "name": "python",
   "nbconvert_exporter": "python",
   "pygments_lexer": "ipython3",
   "version": "3.10.8"
  }
 },
 "nbformat": 4,
 "nbformat_minor": 5
}
