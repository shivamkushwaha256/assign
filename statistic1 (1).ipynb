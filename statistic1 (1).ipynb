{
 "cells": [
  {
   "cell_type": "code",
   "execution_count": null,
   "id": "1d8306da-560c-4173-a826-514e38e564c5",
   "metadata": {},
   "outputs": [],
   "source": [
    " question 1 "
   ]
  },
  {
   "cell_type": "code",
   "execution_count": null,
   "id": "74e89570-c3de-447f-9253-0392c8721fdb",
   "metadata": {},
   "outputs": [],
   "source": [
    "statistic is the science of collecting ,organizing and  analyzing of the data.  "
   ]
  },
  {
   "cell_type": "code",
   "execution_count": null,
   "id": "1968ae2d-c18c-4c62-9c4e-9be084ed7d59",
   "metadata": {},
   "outputs": [],
   "source": [
    "question 2 "
   ]
  },
  {
   "cell_type": "code",
   "execution_count": null,
   "id": "62430223-14ef-4968-b383-65c025424272",
   "metadata": {},
   "outputs": [],
   "source": [
    "there are two type of statistic \n",
    " descriptive :- in descriptive statistics summarizing , analyzing and visualization of data is done .\n",
    "    eg :-measure of central tendency,measure of dispersion etc.\n",
    "inferential statistics :- in inferential stats conclusion is made by appling hypothesis tests (z-test, t-test,etc) \n",
    "                           test is perform on sample and conclusion on population is made .\n",
    "    eg :-guessing the election result ."
   ]
  },
  {
   "cell_type": "code",
   "execution_count": null,
   "id": "545b174f-9bf0-48cf-81bb-e5058536ca16",
   "metadata": {},
   "outputs": [],
   "source": [
    "question 3 "
   ]
  },
  {
   "cell_type": "code",
   "execution_count": null,
   "id": "df3bd96b-389a-4aa3-b64c-5e2273e98f4b",
   "metadata": {},
   "outputs": [],
   "source": [
    "data is piece of information . it is of two type:-\n",
    "qualitative data : it is the categorial data that can't be counted .\n",
    "                eg:-how they feel after buying the course \n",
    "                      better \n",
    "                      good \n",
    "                      bad\n",
    "    \n",
    "quantitative data : it is the numerical data ,(data that can be counted )\n",
    "                     eg:- how many people took the course\n",
    "    "
   ]
  },
  {
   "cell_type": "code",
   "execution_count": null,
   "id": "65102e96-6381-4516-9c03-0f3efd81b100",
   "metadata": {},
   "outputs": [],
   "source": [
    "question 4 "
   ]
  },
  {
   "cell_type": "code",
   "execution_count": null,
   "id": "4e0bc443-3616-4156-9782-fc50eab2471a",
   "metadata": {},
   "outputs": [],
   "source": [
    "i) qualitative  data \n",
    "ii) qualitative data\n",
    "iii)quantitative data \n",
    "iv) quantitative data"
   ]
  },
  {
   "cell_type": "code",
   "execution_count": null,
   "id": "8828f1e4-7d44-4718-bddf-af0097dbb938",
   "metadata": {},
   "outputs": [],
   "source": [
    "question 5"
   ]
  },
  {
   "cell_type": "code",
   "execution_count": null,
   "id": "954675ef-fb45-49f3-85c4-2da6cac7c2dc",
   "metadata": {},
   "outputs": [],
   "source": [
    "level of measurement is also called as scale of measurement , it tell you how precisely variable are recorded .\n",
    "nominal data can be categorize eg :- favourate colour \n",
    "ordinal data can be categorize and ranked eg :-feedback (best ,good ,bad )\n",
    "interval scale data :-it can be categorize ,ranked and difference can be calculated eg:-temperature\n",
    "ratio scale data :- it can be categorize , ranked , difference can be calculated and has zero starting point .\n"
   ]
  },
  {
   "cell_type": "code",
   "execution_count": null,
   "id": "26a062c2-6329-47c9-aa71-32e8e57db543",
   "metadata": {},
   "outputs": [],
   "source": [
    "question 6 "
   ]
  },
  {
   "cell_type": "code",
   "execution_count": null,
   "id": "c0dd018b-9028-43ce-89ae-d91a6b829d7e",
   "metadata": {},
   "outputs": [],
   "source": [
    "The level at which you measure a variable determines how you can analyze your data\n",
    "The different levels limit which descriptive statistics you can use to get an overall summary of your data,\n",
    "  and which type of inferential statistics you can perform on your data to support or refute your hypothesis.\n",
    "    eg :- if marks obtained by class is given then scale of measurement help to tell which data is it and what operation can be perform on it .\n",
    "    "
   ]
  },
  {
   "cell_type": "code",
   "execution_count": null,
   "id": "b43a8fda-1f18-4c75-a0c4-00b5bed8d271",
   "metadata": {},
   "outputs": [],
   "source": [
    "questiion 7 "
   ]
  },
  {
   "cell_type": "code",
   "execution_count": null,
   "id": "75b6f6c7-0fae-4c2b-9568-f647e73a9345",
   "metadata": {},
   "outputs": [],
   "source": [
    "nominal data doesn't have ranked data while in ordinal data it is categorize as well as ranked \n",
    "eg nominal -- gender \n",
    "eg ordinal -- feedback "
   ]
  },
  {
   "cell_type": "code",
   "execution_count": null,
   "id": "9e93f412-b820-4594-af91-6662415bfe39",
   "metadata": {},
   "outputs": [],
   "source": [
    "question 8 "
   ]
  },
  {
   "cell_type": "code",
   "execution_count": null,
   "id": "0568e623-d4aa-4adc-b94c-c2be740aabea",
   "metadata": {},
   "outputs": [],
   "source": [
    "histogram"
   ]
  },
  {
   "cell_type": "code",
   "execution_count": null,
   "id": "fab774eb-bd52-47ef-bbfd-16931779a0ed",
   "metadata": {},
   "outputs": [],
   "source": [
    "question 9 "
   ]
  },
  {
   "cell_type": "code",
   "execution_count": null,
   "id": "6beadbe6-f0b3-42c4-bdc9-61470d3ee975",
   "metadata": {},
   "outputs": [],
   "source": [
    "descriptive :- in descriptive statistics summarizing , analyzing and visualization of data is done .\n",
    "    eg :-measure of central tendency,measure of dispersion etc.\n",
    "inferential statistics :- in inferential stats conclusion is made by appling hypothesis tests (z-test, t-test,etc) \n",
    "                           test is perform on sample and conclusion on population is made .\n",
    "    eg :-guessing the election result ."
   ]
  },
  {
   "cell_type": "code",
   "execution_count": null,
   "id": "200d5463-309b-445b-bdef-3a7fdcd7a7dd",
   "metadata": {},
   "outputs": [],
   "source": [
    "question 10 "
   ]
  },
  {
   "cell_type": "code",
   "execution_count": null,
   "id": "12c406cb-1e3b-4771-9c7d-7f09f0349911",
   "metadata": {},
   "outputs": [],
   "source": [
    "mean ,median , mode \n",
    "mean is the arthmetic average , it can be calculated by adding all the data and dividing it by no of unit \n",
    " \n",
    "median is the medium value , it can be calculated by arranging data in ascending order the find the medium of it.\n",
    "\n",
    "mode is the value which occur the most in data. it can be calculated by taking value having maximum frequency ."
   ]
  }
 ],
 "metadata": {
  "kernelspec": {
   "display_name": "Python 3 (ipykernel)",
   "language": "python",
   "name": "python3"
  },
  "language_info": {
   "codemirror_mode": {
    "name": "ipython",
    "version": 3
   },
   "file_extension": ".py",
   "mimetype": "text/x-python",
   "name": "python",
   "nbconvert_exporter": "python",
   "pygments_lexer": "ipython3",
   "version": "3.10.8"
  }
 },
 "nbformat": 4,
 "nbformat_minor": 5
}
